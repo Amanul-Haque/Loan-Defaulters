{
  "nbformat": 4,
  "nbformat_minor": 0,
  "metadata": {
    "colab": {
      "name": "DataAnalysis.ipynb",
      "provenance": [],
      "collapsed_sections": []
    },
    "kernelspec": {
      "name": "python3",
      "display_name": "Python 3"
    }
  },
  "cells": [
    {
      "cell_type": "code",
      "metadata": {
        "id": "Ihlycaih6W6L",
        "colab_type": "code",
        "outputId": "e25d472f-54c3-444f-bae7-8f3eafe842a1",
        "colab": {
          "base_uri": "https://localhost:8080/",
          "height": 62
        }
      },
      "source": [
        "import pandas as pd\n",
        "import pandas as pd\n",
        "import numpy as np\n",
        "import matplotlib.pyplot as plt\n",
        "%matplotlib inline\n",
        "from tensorflow import keras"
      ],
      "execution_count": 1,
      "outputs": [
        {
          "output_type": "display_data",
          "data": {
            "text/html": [
              "<p style=\"color: red;\">\n",
              "The default version of TensorFlow in Colab will soon switch to TensorFlow 2.x.<br>\n",
              "We recommend you <a href=\"https://www.tensorflow.org/guide/migrate\" target=\"_blank\">upgrade</a> now \n",
              "or ensure your notebook will continue to use TensorFlow 1.x via the <code>%tensorflow_version 1.x</code> magic:\n",
              "<a href=\"https://colab.research.google.com/notebooks/tensorflow_version.ipynb\" target=\"_blank\">more info</a>.</p>\n"
            ],
            "text/plain": [
              "<IPython.core.display.HTML object>"
            ]
          },
          "metadata": {
            "tags": []
          }
        }
      ]
    },
    {
      "cell_type": "code",
      "metadata": {
        "id": "w2Svycfy6W6Q",
        "colab_type": "code",
        "colab": {}
      },
      "source": [
        "import os\n",
        "from pydrive.auth import GoogleAuth\n",
        "from pydrive.drive import GoogleDrive\n",
        "from google.colab import auth\n",
        "from oauth2client.client import GoogleCredentials"
      ],
      "execution_count": 0,
      "outputs": []
    },
    {
      "cell_type": "code",
      "metadata": {
        "id": "au3Od89e6W6T",
        "colab_type": "code",
        "colab": {}
      },
      "source": [
        "auth.authenticate_user()\n",
        "gauth = GoogleAuth()\n",
        "gauth.credentials = GoogleCredentials.get_application_default()\n",
        "drive = GoogleDrive(gauth)"
      ],
      "execution_count": 0,
      "outputs": []
    },
    {
      "cell_type": "code",
      "metadata": {
        "id": "MphegHlU70zF",
        "colab_type": "code",
        "colab": {}
      },
      "source": [
        "import io"
      ],
      "execution_count": 0,
      "outputs": []
    },
    {
      "cell_type": "code",
      "metadata": {
        "colab_type": "code",
        "id": "nhD0k0Um1yiG",
        "colab": {}
      },
      "source": [
        "df = drive.CreateFile({'id':'1JjFjg76_mf8TvwTVyPZUx3OKSHhx8BnW'})\n",
        "df.GetContentFile('d2c.xlsx')"
      ],
      "execution_count": 0,
      "outputs": []
    },
    {
      "cell_type": "code",
      "metadata": {
        "colab_type": "code",
        "id": "p1-GTzcU1yiT",
        "colab": {}
      },
      "source": [
        "df = pd.read_excel('d2c.xlsx')"
      ],
      "execution_count": 0,
      "outputs": []
    },
    {
      "cell_type": "code",
      "metadata": {
        "colab_type": "code",
        "outputId": "2f6a8b34-fd92-4a39-a535-d5d1dd142118",
        "id": "VWQXE05X1yiV",
        "colab": {
          "base_uri": "https://localhost:8080/",
          "height": 659
        }
      },
      "source": [
        "df.head(20)"
      ],
      "execution_count": 7,
      "outputs": [
        {
          "output_type": "execute_result",
          "data": {
            "text/html": [
              "<div>\n",
              "<style scoped>\n",
              "    .dataframe tbody tr th:only-of-type {\n",
              "        vertical-align: middle;\n",
              "    }\n",
              "\n",
              "    .dataframe tbody tr th {\n",
              "        vertical-align: top;\n",
              "    }\n",
              "\n",
              "    .dataframe thead th {\n",
              "        text-align: right;\n",
              "    }\n",
              "</style>\n",
              "<table border=\"1\" class=\"dataframe\">\n",
              "  <thead>\n",
              "    <tr style=\"text-align: right;\">\n",
              "      <th></th>\n",
              "      <th>ID</th>\n",
              "      <th>Default</th>\n",
              "      <th>Checking_amount</th>\n",
              "      <th>Term</th>\n",
              "      <th>Credit_score</th>\n",
              "      <th>Gender</th>\n",
              "      <th>Marital_status</th>\n",
              "      <th>Car_loan</th>\n",
              "      <th>Personal_loan</th>\n",
              "      <th>Home_loan</th>\n",
              "      <th>Education_loan</th>\n",
              "      <th>Emp_status</th>\n",
              "      <th>Amount</th>\n",
              "      <th>Saving_amount</th>\n",
              "      <th>Emp_duration</th>\n",
              "      <th>Age</th>\n",
              "      <th>No_of_credit_acc</th>\n",
              "    </tr>\n",
              "  </thead>\n",
              "  <tbody>\n",
              "    <tr>\n",
              "      <th>0</th>\n",
              "      <td>101</td>\n",
              "      <td>No</td>\n",
              "      <td>988.0</td>\n",
              "      <td>15.0</td>\n",
              "      <td>796.0</td>\n",
              "      <td>Female</td>\n",
              "      <td>Single</td>\n",
              "      <td>Yes</td>\n",
              "      <td>No</td>\n",
              "      <td>No</td>\n",
              "      <td>No</td>\n",
              "      <td>employed</td>\n",
              "      <td>1536.0</td>\n",
              "      <td>3455</td>\n",
              "      <td>12.0</td>\n",
              "      <td>38.0</td>\n",
              "      <td>1.0</td>\n",
              "    </tr>\n",
              "    <tr>\n",
              "      <th>1</th>\n",
              "      <td>102</td>\n",
              "      <td>No</td>\n",
              "      <td>458.0</td>\n",
              "      <td>15.0</td>\n",
              "      <td>813.0</td>\n",
              "      <td>Female</td>\n",
              "      <td>Single</td>\n",
              "      <td>Yes</td>\n",
              "      <td>No</td>\n",
              "      <td>No</td>\n",
              "      <td>No</td>\n",
              "      <td>employed</td>\n",
              "      <td>947.0</td>\n",
              "      <td>3600</td>\n",
              "      <td>25.0</td>\n",
              "      <td>36.0</td>\n",
              "      <td>1.0</td>\n",
              "    </tr>\n",
              "    <tr>\n",
              "      <th>2</th>\n",
              "      <td>103</td>\n",
              "      <td>No</td>\n",
              "      <td>158.0</td>\n",
              "      <td>14.0</td>\n",
              "      <td>756.0</td>\n",
              "      <td>Female</td>\n",
              "      <td>Single</td>\n",
              "      <td>No</td>\n",
              "      <td>Yes</td>\n",
              "      <td>No</td>\n",
              "      <td>No</td>\n",
              "      <td>employed</td>\n",
              "      <td>1678.0</td>\n",
              "      <td>3093</td>\n",
              "      <td>43.0</td>\n",
              "      <td>34.0</td>\n",
              "      <td>1.0</td>\n",
              "    </tr>\n",
              "    <tr>\n",
              "      <th>3</th>\n",
              "      <td>104</td>\n",
              "      <td>Yes</td>\n",
              "      <td>300.0</td>\n",
              "      <td>25.0</td>\n",
              "      <td>737.0</td>\n",
              "      <td>Female</td>\n",
              "      <td>Single</td>\n",
              "      <td>No</td>\n",
              "      <td>No</td>\n",
              "      <td>No</td>\n",
              "      <td>Yes</td>\n",
              "      <td>employed</td>\n",
              "      <td>1804.0</td>\n",
              "      <td>2449</td>\n",
              "      <td>0.0</td>\n",
              "      <td>29.0</td>\n",
              "      <td>1.0</td>\n",
              "    </tr>\n",
              "    <tr>\n",
              "      <th>4</th>\n",
              "      <td>105</td>\n",
              "      <td>Yes</td>\n",
              "      <td>63.0</td>\n",
              "      <td>24.0</td>\n",
              "      <td>662.0</td>\n",
              "      <td>Female</td>\n",
              "      <td>Single</td>\n",
              "      <td>No</td>\n",
              "      <td>No</td>\n",
              "      <td>No</td>\n",
              "      <td>Yes</td>\n",
              "      <td>unemployed</td>\n",
              "      <td>1184.0</td>\n",
              "      <td>2867</td>\n",
              "      <td>4.0</td>\n",
              "      <td>30.0</td>\n",
              "      <td>1.0</td>\n",
              "    </tr>\n",
              "    <tr>\n",
              "      <th>5</th>\n",
              "      <td>106</td>\n",
              "      <td>No</td>\n",
              "      <td>1071.0</td>\n",
              "      <td>20.0</td>\n",
              "      <td>828.0</td>\n",
              "      <td>Male</td>\n",
              "      <td>Married</td>\n",
              "      <td>Yes</td>\n",
              "      <td>No</td>\n",
              "      <td>No</td>\n",
              "      <td>No</td>\n",
              "      <td>employed</td>\n",
              "      <td>475.0</td>\n",
              "      <td>3282</td>\n",
              "      <td>12.0</td>\n",
              "      <td>32.0</td>\n",
              "      <td>2.0</td>\n",
              "    </tr>\n",
              "    <tr>\n",
              "      <th>6</th>\n",
              "      <td>107</td>\n",
              "      <td>No</td>\n",
              "      <td>-192.0</td>\n",
              "      <td>13.0</td>\n",
              "      <td>856.0</td>\n",
              "      <td>Male</td>\n",
              "      <td>Single</td>\n",
              "      <td>Yes</td>\n",
              "      <td>No</td>\n",
              "      <td>No</td>\n",
              "      <td>No</td>\n",
              "      <td>employed</td>\n",
              "      <td>626.0</td>\n",
              "      <td>3398</td>\n",
              "      <td>11.0</td>\n",
              "      <td>38.0</td>\n",
              "      <td>1.0</td>\n",
              "    </tr>\n",
              "    <tr>\n",
              "      <th>7</th>\n",
              "      <td>108</td>\n",
              "      <td>No</td>\n",
              "      <td>172.0</td>\n",
              "      <td>16.0</td>\n",
              "      <td>763.0</td>\n",
              "      <td>Female</td>\n",
              "      <td>Single</td>\n",
              "      <td>Yes</td>\n",
              "      <td>No</td>\n",
              "      <td>No</td>\n",
              "      <td>No</td>\n",
              "      <td>employed</td>\n",
              "      <td>1224.0</td>\n",
              "      <td>3022</td>\n",
              "      <td>12.0</td>\n",
              "      <td>36.0</td>\n",
              "      <td>1.0</td>\n",
              "    </tr>\n",
              "    <tr>\n",
              "      <th>8</th>\n",
              "      <td>109</td>\n",
              "      <td>No</td>\n",
              "      <td>585.0</td>\n",
              "      <td>20.0</td>\n",
              "      <td>778.0</td>\n",
              "      <td>Female</td>\n",
              "      <td>Single</td>\n",
              "      <td>Yes</td>\n",
              "      <td>No</td>\n",
              "      <td>No</td>\n",
              "      <td>No</td>\n",
              "      <td>unemployed</td>\n",
              "      <td>1162.0</td>\n",
              "      <td>3475</td>\n",
              "      <td>12.0</td>\n",
              "      <td>36.0</td>\n",
              "      <td>1.0</td>\n",
              "    </tr>\n",
              "    <tr>\n",
              "      <th>9</th>\n",
              "      <td>110</td>\n",
              "      <td>Yes</td>\n",
              "      <td>189.0</td>\n",
              "      <td>19.0</td>\n",
              "      <td>649.0</td>\n",
              "      <td>Male</td>\n",
              "      <td>Married</td>\n",
              "      <td>Yes</td>\n",
              "      <td>No</td>\n",
              "      <td>No</td>\n",
              "      <td>No</td>\n",
              "      <td>employed</td>\n",
              "      <td>786.0</td>\n",
              "      <td>2711</td>\n",
              "      <td>0.0</td>\n",
              "      <td>29.0</td>\n",
              "      <td>1.0</td>\n",
              "    </tr>\n",
              "    <tr>\n",
              "      <th>10</th>\n",
              "      <td>111</td>\n",
              "      <td>Yes</td>\n",
              "      <td>214.0</td>\n",
              "      <td>19.0</td>\n",
              "      <td>742.0</td>\n",
              "      <td>Male</td>\n",
              "      <td>Married</td>\n",
              "      <td>No</td>\n",
              "      <td>No</td>\n",
              "      <td>No</td>\n",
              "      <td>Yes</td>\n",
              "      <td>employed</td>\n",
              "      <td>1270.0</td>\n",
              "      <td>2925</td>\n",
              "      <td>0.0</td>\n",
              "      <td>25.0</td>\n",
              "      <td>1.0</td>\n",
              "    </tr>\n",
              "    <tr>\n",
              "      <th>11</th>\n",
              "      <td>112</td>\n",
              "      <td>No</td>\n",
              "      <td>710.0</td>\n",
              "      <td>18.0</td>\n",
              "      <td>772.0</td>\n",
              "      <td>Female</td>\n",
              "      <td>Single</td>\n",
              "      <td>No</td>\n",
              "      <td>Yes</td>\n",
              "      <td>No</td>\n",
              "      <td>No</td>\n",
              "      <td>employed</td>\n",
              "      <td>1198.0</td>\n",
              "      <td>3694</td>\n",
              "      <td>13.0</td>\n",
              "      <td>32.0</td>\n",
              "      <td>2.0</td>\n",
              "    </tr>\n",
              "    <tr>\n",
              "      <th>12</th>\n",
              "      <td>113</td>\n",
              "      <td>No</td>\n",
              "      <td>268.0</td>\n",
              "      <td>18.0</td>\n",
              "      <td>815.0</td>\n",
              "      <td>Male</td>\n",
              "      <td>Married</td>\n",
              "      <td>No</td>\n",
              "      <td>Yes</td>\n",
              "      <td>No</td>\n",
              "      <td>No</td>\n",
              "      <td>employed</td>\n",
              "      <td>1244.0</td>\n",
              "      <td>3403</td>\n",
              "      <td>21.0</td>\n",
              "      <td>31.0</td>\n",
              "      <td>2.0</td>\n",
              "    </tr>\n",
              "    <tr>\n",
              "      <th>13</th>\n",
              "      <td>114</td>\n",
              "      <td>Yes</td>\n",
              "      <td>262.0</td>\n",
              "      <td>21.0</td>\n",
              "      <td>726.0</td>\n",
              "      <td>Female</td>\n",
              "      <td>Single</td>\n",
              "      <td>Yes</td>\n",
              "      <td>No</td>\n",
              "      <td>No</td>\n",
              "      <td>No</td>\n",
              "      <td>unemployed</td>\n",
              "      <td>977.0</td>\n",
              "      <td>2191</td>\n",
              "      <td>10.0</td>\n",
              "      <td>24.0</td>\n",
              "      <td>4.0</td>\n",
              "    </tr>\n",
              "    <tr>\n",
              "      <th>14</th>\n",
              "      <td>115</td>\n",
              "      <td>Yes</td>\n",
              "      <td>24.0</td>\n",
              "      <td>21.0</td>\n",
              "      <td>705.0</td>\n",
              "      <td>Female</td>\n",
              "      <td>Single</td>\n",
              "      <td>Yes</td>\n",
              "      <td>No</td>\n",
              "      <td>No</td>\n",
              "      <td>No</td>\n",
              "      <td>employed</td>\n",
              "      <td>1212.0</td>\n",
              "      <td>2965</td>\n",
              "      <td>0.0</td>\n",
              "      <td>30.0</td>\n",
              "      <td>3.0</td>\n",
              "    </tr>\n",
              "    <tr>\n",
              "      <th>15</th>\n",
              "      <td>116</td>\n",
              "      <td>No</td>\n",
              "      <td>887.0</td>\n",
              "      <td>18.0</td>\n",
              "      <td>779.0</td>\n",
              "      <td>Female</td>\n",
              "      <td>Single</td>\n",
              "      <td>No</td>\n",
              "      <td>Yes</td>\n",
              "      <td>No</td>\n",
              "      <td>No</td>\n",
              "      <td>employed</td>\n",
              "      <td>1162.0</td>\n",
              "      <td>3228</td>\n",
              "      <td>4.0</td>\n",
              "      <td>34.0</td>\n",
              "      <td>3.0</td>\n",
              "    </tr>\n",
              "    <tr>\n",
              "      <th>16</th>\n",
              "      <td>117</td>\n",
              "      <td>No</td>\n",
              "      <td>360.0</td>\n",
              "      <td>20.0</td>\n",
              "      <td>710.0</td>\n",
              "      <td>Male</td>\n",
              "      <td>Married</td>\n",
              "      <td>No</td>\n",
              "      <td>No</td>\n",
              "      <td>Yes</td>\n",
              "      <td>No</td>\n",
              "      <td>employed</td>\n",
              "      <td>1437.0</td>\n",
              "      <td>3484</td>\n",
              "      <td>5.0</td>\n",
              "      <td>33.0</td>\n",
              "      <td>4.0</td>\n",
              "    </tr>\n",
              "    <tr>\n",
              "      <th>17</th>\n",
              "      <td>118</td>\n",
              "      <td>No</td>\n",
              "      <td>571.0</td>\n",
              "      <td>16.0</td>\n",
              "      <td>779.0</td>\n",
              "      <td>Male</td>\n",
              "      <td>Married</td>\n",
              "      <td>Yes</td>\n",
              "      <td>No</td>\n",
              "      <td>No</td>\n",
              "      <td>No</td>\n",
              "      <td>employed</td>\n",
              "      <td>1318.0</td>\n",
              "      <td>3935</td>\n",
              "      <td>3.0</td>\n",
              "      <td>32.0</td>\n",
              "      <td>9.0</td>\n",
              "    </tr>\n",
              "    <tr>\n",
              "      <th>18</th>\n",
              "      <td>119</td>\n",
              "      <td>No</td>\n",
              "      <td>382.0</td>\n",
              "      <td>15.0</td>\n",
              "      <td>757.0</td>\n",
              "      <td>Male</td>\n",
              "      <td>Married</td>\n",
              "      <td>Yes</td>\n",
              "      <td>No</td>\n",
              "      <td>No</td>\n",
              "      <td>No</td>\n",
              "      <td>employed</td>\n",
              "      <td>910.0</td>\n",
              "      <td>3730</td>\n",
              "      <td>5.0</td>\n",
              "      <td>31.0</td>\n",
              "      <td>9.0</td>\n",
              "    </tr>\n",
              "    <tr>\n",
              "      <th>19</th>\n",
              "      <td>120</td>\n",
              "      <td>No</td>\n",
              "      <td>1151.0</td>\n",
              "      <td>13.0</td>\n",
              "      <td>784.0</td>\n",
              "      <td>Male</td>\n",
              "      <td>Single</td>\n",
              "      <td>No</td>\n",
              "      <td>Yes</td>\n",
              "      <td>No</td>\n",
              "      <td>No</td>\n",
              "      <td>employed</td>\n",
              "      <td>869.0</td>\n",
              "      <td>3315</td>\n",
              "      <td>26.0</td>\n",
              "      <td>32.0</td>\n",
              "      <td>2.0</td>\n",
              "    </tr>\n",
              "  </tbody>\n",
              "</table>\n",
              "</div>"
            ],
            "text/plain": [
              "     ID Default  Checking_amount  ...  Emp_duration    Age No_of_credit_acc\n",
              "0   101      No            988.0  ...           12.0  38.0              1.0\n",
              "1   102      No            458.0  ...           25.0  36.0              1.0\n",
              "2   103      No            158.0  ...           43.0  34.0              1.0\n",
              "3   104     Yes            300.0  ...            0.0  29.0              1.0\n",
              "4   105     Yes             63.0  ...            4.0  30.0              1.0\n",
              "5   106      No           1071.0  ...           12.0  32.0              2.0\n",
              "6   107      No           -192.0  ...           11.0  38.0              1.0\n",
              "7   108      No            172.0  ...           12.0  36.0              1.0\n",
              "8   109      No            585.0  ...           12.0  36.0              1.0\n",
              "9   110     Yes            189.0  ...            0.0  29.0              1.0\n",
              "10  111     Yes            214.0  ...            0.0  25.0              1.0\n",
              "11  112      No            710.0  ...           13.0  32.0              2.0\n",
              "12  113      No            268.0  ...           21.0  31.0              2.0\n",
              "13  114     Yes            262.0  ...           10.0  24.0              4.0\n",
              "14  115     Yes             24.0  ...            0.0  30.0              3.0\n",
              "15  116      No            887.0  ...            4.0  34.0              3.0\n",
              "16  117      No            360.0  ...            5.0  33.0              4.0\n",
              "17  118      No            571.0  ...            3.0  32.0              9.0\n",
              "18  119      No            382.0  ...            5.0  31.0              9.0\n",
              "19  120      No           1151.0  ...           26.0  32.0              2.0\n",
              "\n",
              "[20 rows x 17 columns]"
            ]
          },
          "metadata": {
            "tags": []
          },
          "execution_count": 7
        }
      ]
    },
    {
      "cell_type": "markdown",
      "metadata": {
        "colab_type": "text",
        "id": "vbAGlXPd1yic"
      },
      "source": [
        "### Converting lable values to 1,0"
      ]
    },
    {
      "cell_type": "code",
      "metadata": {
        "colab_type": "code",
        "id": "lX8X3PdO1yid",
        "colab": {}
      },
      "source": [
        "df['Default']=pd.Series(np.where(df.Default.values == 'Yes', 1, 0),\n",
        "          df.index)"
      ],
      "execution_count": 0,
      "outputs": []
    },
    {
      "cell_type": "code",
      "metadata": {
        "colab_type": "code",
        "id": "2QZGkM0U1yig",
        "colab": {}
      },
      "source": [
        "df['Gender']=pd.Series(np.where(df.Gender.values == 'Male', 1, 0),\n",
        "          df.index)"
      ],
      "execution_count": 0,
      "outputs": []
    },
    {
      "cell_type": "code",
      "metadata": {
        "colab_type": "code",
        "id": "XnBrdodv1yii",
        "colab": {}
      },
      "source": [
        "df['Marital_status']=pd.Series(np.where(df.Marital_status.values == 'Married', 1, 0),\n",
        "                               df.index)\n"
      ],
      "execution_count": 0,
      "outputs": []
    },
    {
      "cell_type": "code",
      "metadata": {
        "colab_type": "code",
        "id": "GfUtTFtY1yil",
        "colab": {}
      },
      "source": [
        "df['Car_loan']=pd.Series(np.where(df.Car_loan.values == 'Yes', 1, 0),\n",
        "                               df.index)\n"
      ],
      "execution_count": 0,
      "outputs": []
    },
    {
      "cell_type": "code",
      "metadata": {
        "colab_type": "code",
        "id": "vpm0t4b-1yio",
        "colab": {}
      },
      "source": [
        "df['Personal_loan']=pd.Series(np.where(df.Personal_loan.values == 'Yes', 1, 0),\n",
        "                               df.index)"
      ],
      "execution_count": 0,
      "outputs": []
    },
    {
      "cell_type": "code",
      "metadata": {
        "colab_type": "code",
        "id": "gYo1QbiM1yiq",
        "colab": {}
      },
      "source": [
        "df['Education_loan']=pd.Series(np.where(df.Education_loan.values == 'Yes', 1, 0),\n",
        "                               df.index)"
      ],
      "execution_count": 0,
      "outputs": []
    },
    {
      "cell_type": "code",
      "metadata": {
        "colab_type": "code",
        "id": "XQNmB1eB1yis",
        "colab": {}
      },
      "source": [
        "df['Emp_status']=pd.Series(np.where(df.Emp_status.values == 'employed', 1, 0),\n",
        "                               df.index)"
      ],
      "execution_count": 0,
      "outputs": []
    },
    {
      "cell_type": "code",
      "metadata": {
        "colab_type": "code",
        "id": "DsG2lzh-1yiv",
        "colab": {}
      },
      "source": [
        "df['Home_loan']=pd.Series(np.where(df.Home_loan.values == 'Yes', 1, 0),\n",
        "                               df.index)"
      ],
      "execution_count": 0,
      "outputs": []
    },
    {
      "cell_type": "code",
      "metadata": {
        "colab_type": "code",
        "outputId": "febe183c-e7f7-4dd9-9736-71a0f5aa479c",
        "id": "0U4wACTZ1yix",
        "colab": {
          "base_uri": "https://localhost:8080/",
          "height": 422
        }
      },
      "source": [
        "df"
      ],
      "execution_count": 16,
      "outputs": [
        {
          "output_type": "execute_result",
          "data": {
            "text/html": [
              "<div>\n",
              "<style scoped>\n",
              "    .dataframe tbody tr th:only-of-type {\n",
              "        vertical-align: middle;\n",
              "    }\n",
              "\n",
              "    .dataframe tbody tr th {\n",
              "        vertical-align: top;\n",
              "    }\n",
              "\n",
              "    .dataframe thead th {\n",
              "        text-align: right;\n",
              "    }\n",
              "</style>\n",
              "<table border=\"1\" class=\"dataframe\">\n",
              "  <thead>\n",
              "    <tr style=\"text-align: right;\">\n",
              "      <th></th>\n",
              "      <th>ID</th>\n",
              "      <th>Default</th>\n",
              "      <th>Checking_amount</th>\n",
              "      <th>Term</th>\n",
              "      <th>Credit_score</th>\n",
              "      <th>Gender</th>\n",
              "      <th>Marital_status</th>\n",
              "      <th>Car_loan</th>\n",
              "      <th>Personal_loan</th>\n",
              "      <th>Home_loan</th>\n",
              "      <th>Education_loan</th>\n",
              "      <th>Emp_status</th>\n",
              "      <th>Amount</th>\n",
              "      <th>Saving_amount</th>\n",
              "      <th>Emp_duration</th>\n",
              "      <th>Age</th>\n",
              "      <th>No_of_credit_acc</th>\n",
              "    </tr>\n",
              "  </thead>\n",
              "  <tbody>\n",
              "    <tr>\n",
              "      <th>0</th>\n",
              "      <td>101</td>\n",
              "      <td>0</td>\n",
              "      <td>988.0</td>\n",
              "      <td>15.0</td>\n",
              "      <td>796.0</td>\n",
              "      <td>0</td>\n",
              "      <td>0</td>\n",
              "      <td>1</td>\n",
              "      <td>0</td>\n",
              "      <td>0</td>\n",
              "      <td>0</td>\n",
              "      <td>1</td>\n",
              "      <td>1536.0</td>\n",
              "      <td>3455</td>\n",
              "      <td>12.0</td>\n",
              "      <td>38.0</td>\n",
              "      <td>1.0</td>\n",
              "    </tr>\n",
              "    <tr>\n",
              "      <th>1</th>\n",
              "      <td>102</td>\n",
              "      <td>0</td>\n",
              "      <td>458.0</td>\n",
              "      <td>15.0</td>\n",
              "      <td>813.0</td>\n",
              "      <td>0</td>\n",
              "      <td>0</td>\n",
              "      <td>1</td>\n",
              "      <td>0</td>\n",
              "      <td>0</td>\n",
              "      <td>0</td>\n",
              "      <td>1</td>\n",
              "      <td>947.0</td>\n",
              "      <td>3600</td>\n",
              "      <td>25.0</td>\n",
              "      <td>36.0</td>\n",
              "      <td>1.0</td>\n",
              "    </tr>\n",
              "    <tr>\n",
              "      <th>2</th>\n",
              "      <td>103</td>\n",
              "      <td>0</td>\n",
              "      <td>158.0</td>\n",
              "      <td>14.0</td>\n",
              "      <td>756.0</td>\n",
              "      <td>0</td>\n",
              "      <td>0</td>\n",
              "      <td>0</td>\n",
              "      <td>1</td>\n",
              "      <td>0</td>\n",
              "      <td>0</td>\n",
              "      <td>1</td>\n",
              "      <td>1678.0</td>\n",
              "      <td>3093</td>\n",
              "      <td>43.0</td>\n",
              "      <td>34.0</td>\n",
              "      <td>1.0</td>\n",
              "    </tr>\n",
              "    <tr>\n",
              "      <th>3</th>\n",
              "      <td>104</td>\n",
              "      <td>1</td>\n",
              "      <td>300.0</td>\n",
              "      <td>25.0</td>\n",
              "      <td>737.0</td>\n",
              "      <td>0</td>\n",
              "      <td>0</td>\n",
              "      <td>0</td>\n",
              "      <td>0</td>\n",
              "      <td>0</td>\n",
              "      <td>1</td>\n",
              "      <td>1</td>\n",
              "      <td>1804.0</td>\n",
              "      <td>2449</td>\n",
              "      <td>0.0</td>\n",
              "      <td>29.0</td>\n",
              "      <td>1.0</td>\n",
              "    </tr>\n",
              "    <tr>\n",
              "      <th>4</th>\n",
              "      <td>105</td>\n",
              "      <td>1</td>\n",
              "      <td>63.0</td>\n",
              "      <td>24.0</td>\n",
              "      <td>662.0</td>\n",
              "      <td>0</td>\n",
              "      <td>0</td>\n",
              "      <td>0</td>\n",
              "      <td>0</td>\n",
              "      <td>0</td>\n",
              "      <td>1</td>\n",
              "      <td>0</td>\n",
              "      <td>1184.0</td>\n",
              "      <td>2867</td>\n",
              "      <td>4.0</td>\n",
              "      <td>30.0</td>\n",
              "      <td>1.0</td>\n",
              "    </tr>\n",
              "    <tr>\n",
              "      <th>...</th>\n",
              "      <td>...</td>\n",
              "      <td>...</td>\n",
              "      <td>...</td>\n",
              "      <td>...</td>\n",
              "      <td>...</td>\n",
              "      <td>...</td>\n",
              "      <td>...</td>\n",
              "      <td>...</td>\n",
              "      <td>...</td>\n",
              "      <td>...</td>\n",
              "      <td>...</td>\n",
              "      <td>...</td>\n",
              "      <td>...</td>\n",
              "      <td>...</td>\n",
              "      <td>...</td>\n",
              "      <td>...</td>\n",
              "      <td>...</td>\n",
              "    </tr>\n",
              "    <tr>\n",
              "      <th>799</th>\n",
              "      <td>900</td>\n",
              "      <td>0</td>\n",
              "      <td>393.0</td>\n",
              "      <td>18.0</td>\n",
              "      <td>846.0</td>\n",
              "      <td>0</td>\n",
              "      <td>0</td>\n",
              "      <td>0</td>\n",
              "      <td>1</td>\n",
              "      <td>0</td>\n",
              "      <td>0</td>\n",
              "      <td>0</td>\n",
              "      <td>1603.0</td>\n",
              "      <td>3282</td>\n",
              "      <td>54.0</td>\n",
              "      <td>31.0</td>\n",
              "      <td>1.0</td>\n",
              "    </tr>\n",
              "    <tr>\n",
              "      <th>800</th>\n",
              "      <td>901</td>\n",
              "      <td>0</td>\n",
              "      <td>462.0</td>\n",
              "      <td>21.0</td>\n",
              "      <td>810.0</td>\n",
              "      <td>0</td>\n",
              "      <td>0</td>\n",
              "      <td>1</td>\n",
              "      <td>0</td>\n",
              "      <td>0</td>\n",
              "      <td>0</td>\n",
              "      <td>0</td>\n",
              "      <td>1435.0</td>\n",
              "      <td>3873</td>\n",
              "      <td>110.0</td>\n",
              "      <td>32.0</td>\n",
              "      <td>1.0</td>\n",
              "    </tr>\n",
              "    <tr>\n",
              "      <th>801</th>\n",
              "      <td>902</td>\n",
              "      <td>0</td>\n",
              "      <td>717.0</td>\n",
              "      <td>17.0</td>\n",
              "      <td>739.0</td>\n",
              "      <td>1</td>\n",
              "      <td>1</td>\n",
              "      <td>1</td>\n",
              "      <td>0</td>\n",
              "      <td>0</td>\n",
              "      <td>0</td>\n",
              "      <td>0</td>\n",
              "      <td>1669.0</td>\n",
              "      <td>3453</td>\n",
              "      <td>32.0</td>\n",
              "      <td>31.0</td>\n",
              "      <td>2.0</td>\n",
              "    </tr>\n",
              "    <tr>\n",
              "      <th>802</th>\n",
              "      <td>903</td>\n",
              "      <td>0</td>\n",
              "      <td>822.0</td>\n",
              "      <td>17.0</td>\n",
              "      <td>783.0</td>\n",
              "      <td>1</td>\n",
              "      <td>1</td>\n",
              "      <td>0</td>\n",
              "      <td>1</td>\n",
              "      <td>0</td>\n",
              "      <td>0</td>\n",
              "      <td>0</td>\n",
              "      <td>1041.0</td>\n",
              "      <td>3312</td>\n",
              "      <td>43.0</td>\n",
              "      <td>34.0</td>\n",
              "      <td>2.0</td>\n",
              "    </tr>\n",
              "    <tr>\n",
              "      <th>803</th>\n",
              "      <td>904</td>\n",
              "      <td>1</td>\n",
              "      <td>512.0</td>\n",
              "      <td>18.0</td>\n",
              "      <td>601.0</td>\n",
              "      <td>1</td>\n",
              "      <td>1</td>\n",
              "      <td>1</td>\n",
              "      <td>0</td>\n",
              "      <td>0</td>\n",
              "      <td>0</td>\n",
              "      <td>0</td>\n",
              "      <td>997.0</td>\n",
              "      <td>3060</td>\n",
              "      <td>104.0</td>\n",
              "      <td>26.0</td>\n",
              "      <td>1.0</td>\n",
              "    </tr>\n",
              "  </tbody>\n",
              "</table>\n",
              "<p>804 rows × 17 columns</p>\n",
              "</div>"
            ],
            "text/plain": [
              "      ID  Default  Checking_amount  ...  Emp_duration    Age  No_of_credit_acc\n",
              "0    101        0            988.0  ...           12.0  38.0               1.0\n",
              "1    102        0            458.0  ...           25.0  36.0               1.0\n",
              "2    103        0            158.0  ...           43.0  34.0               1.0\n",
              "3    104        1            300.0  ...            0.0  29.0               1.0\n",
              "4    105        1             63.0  ...            4.0  30.0               1.0\n",
              "..   ...      ...              ...  ...            ...   ...               ...\n",
              "799  900        0            393.0  ...           54.0  31.0               1.0\n",
              "800  901        0            462.0  ...          110.0  32.0               1.0\n",
              "801  902        0            717.0  ...           32.0  31.0               2.0\n",
              "802  903        0            822.0  ...           43.0  34.0               2.0\n",
              "803  904        1            512.0  ...          104.0  26.0               1.0\n",
              "\n",
              "[804 rows x 17 columns]"
            ]
          },
          "metadata": {
            "tags": []
          },
          "execution_count": 16
        }
      ]
    },
    {
      "cell_type": "code",
      "metadata": {
        "id": "Nn8fdEGH2ZwO",
        "colab_type": "code",
        "colab": {}
      },
      "source": [
        "Deafaulter = df[df['Default']== 1]"
      ],
      "execution_count": 0,
      "outputs": []
    },
    {
      "cell_type": "code",
      "metadata": {
        "id": "IXXcbLdGa_Be",
        "colab_type": "code",
        "colab": {}
      },
      "source": [
        "Good = df[df['Default']==0]"
      ],
      "execution_count": 0,
      "outputs": []
    },
    {
      "cell_type": "code",
      "metadata": {
        "id": "quco0Idz2pfN",
        "colab_type": "code",
        "outputId": "981d3930-0342-4add-8a8c-a3cf404e62b6",
        "colab": {
          "base_uri": "https://localhost:8080/",
          "height": 422
        }
      },
      "source": [
        "Deafaulter"
      ],
      "execution_count": 19,
      "outputs": [
        {
          "output_type": "execute_result",
          "data": {
            "text/html": [
              "<div>\n",
              "<style scoped>\n",
              "    .dataframe tbody tr th:only-of-type {\n",
              "        vertical-align: middle;\n",
              "    }\n",
              "\n",
              "    .dataframe tbody tr th {\n",
              "        vertical-align: top;\n",
              "    }\n",
              "\n",
              "    .dataframe thead th {\n",
              "        text-align: right;\n",
              "    }\n",
              "</style>\n",
              "<table border=\"1\" class=\"dataframe\">\n",
              "  <thead>\n",
              "    <tr style=\"text-align: right;\">\n",
              "      <th></th>\n",
              "      <th>ID</th>\n",
              "      <th>Default</th>\n",
              "      <th>Checking_amount</th>\n",
              "      <th>Term</th>\n",
              "      <th>Credit_score</th>\n",
              "      <th>Gender</th>\n",
              "      <th>Marital_status</th>\n",
              "      <th>Car_loan</th>\n",
              "      <th>Personal_loan</th>\n",
              "      <th>Home_loan</th>\n",
              "      <th>Education_loan</th>\n",
              "      <th>Emp_status</th>\n",
              "      <th>Amount</th>\n",
              "      <th>Saving_amount</th>\n",
              "      <th>Emp_duration</th>\n",
              "      <th>Age</th>\n",
              "      <th>No_of_credit_acc</th>\n",
              "    </tr>\n",
              "  </thead>\n",
              "  <tbody>\n",
              "    <tr>\n",
              "      <th>3</th>\n",
              "      <td>104</td>\n",
              "      <td>1</td>\n",
              "      <td>300.0</td>\n",
              "      <td>25.0</td>\n",
              "      <td>737.0</td>\n",
              "      <td>0</td>\n",
              "      <td>0</td>\n",
              "      <td>0</td>\n",
              "      <td>0</td>\n",
              "      <td>0</td>\n",
              "      <td>1</td>\n",
              "      <td>1</td>\n",
              "      <td>1804.0</td>\n",
              "      <td>2449</td>\n",
              "      <td>0.0</td>\n",
              "      <td>29.0</td>\n",
              "      <td>1.0</td>\n",
              "    </tr>\n",
              "    <tr>\n",
              "      <th>4</th>\n",
              "      <td>105</td>\n",
              "      <td>1</td>\n",
              "      <td>63.0</td>\n",
              "      <td>24.0</td>\n",
              "      <td>662.0</td>\n",
              "      <td>0</td>\n",
              "      <td>0</td>\n",
              "      <td>0</td>\n",
              "      <td>0</td>\n",
              "      <td>0</td>\n",
              "      <td>1</td>\n",
              "      <td>0</td>\n",
              "      <td>1184.0</td>\n",
              "      <td>2867</td>\n",
              "      <td>4.0</td>\n",
              "      <td>30.0</td>\n",
              "      <td>1.0</td>\n",
              "    </tr>\n",
              "    <tr>\n",
              "      <th>9</th>\n",
              "      <td>110</td>\n",
              "      <td>1</td>\n",
              "      <td>189.0</td>\n",
              "      <td>19.0</td>\n",
              "      <td>649.0</td>\n",
              "      <td>1</td>\n",
              "      <td>1</td>\n",
              "      <td>1</td>\n",
              "      <td>0</td>\n",
              "      <td>0</td>\n",
              "      <td>0</td>\n",
              "      <td>1</td>\n",
              "      <td>786.0</td>\n",
              "      <td>2711</td>\n",
              "      <td>0.0</td>\n",
              "      <td>29.0</td>\n",
              "      <td>1.0</td>\n",
              "    </tr>\n",
              "    <tr>\n",
              "      <th>10</th>\n",
              "      <td>111</td>\n",
              "      <td>1</td>\n",
              "      <td>214.0</td>\n",
              "      <td>19.0</td>\n",
              "      <td>742.0</td>\n",
              "      <td>1</td>\n",
              "      <td>1</td>\n",
              "      <td>0</td>\n",
              "      <td>0</td>\n",
              "      <td>0</td>\n",
              "      <td>1</td>\n",
              "      <td>1</td>\n",
              "      <td>1270.0</td>\n",
              "      <td>2925</td>\n",
              "      <td>0.0</td>\n",
              "      <td>25.0</td>\n",
              "      <td>1.0</td>\n",
              "    </tr>\n",
              "    <tr>\n",
              "      <th>13</th>\n",
              "      <td>114</td>\n",
              "      <td>1</td>\n",
              "      <td>262.0</td>\n",
              "      <td>21.0</td>\n",
              "      <td>726.0</td>\n",
              "      <td>0</td>\n",
              "      <td>0</td>\n",
              "      <td>1</td>\n",
              "      <td>0</td>\n",
              "      <td>0</td>\n",
              "      <td>0</td>\n",
              "      <td>0</td>\n",
              "      <td>977.0</td>\n",
              "      <td>2191</td>\n",
              "      <td>10.0</td>\n",
              "      <td>24.0</td>\n",
              "      <td>4.0</td>\n",
              "    </tr>\n",
              "    <tr>\n",
              "      <th>...</th>\n",
              "      <td>...</td>\n",
              "      <td>...</td>\n",
              "      <td>...</td>\n",
              "      <td>...</td>\n",
              "      <td>...</td>\n",
              "      <td>...</td>\n",
              "      <td>...</td>\n",
              "      <td>...</td>\n",
              "      <td>...</td>\n",
              "      <td>...</td>\n",
              "      <td>...</td>\n",
              "      <td>...</td>\n",
              "      <td>...</td>\n",
              "      <td>...</td>\n",
              "      <td>...</td>\n",
              "      <td>...</td>\n",
              "      <td>...</td>\n",
              "    </tr>\n",
              "    <tr>\n",
              "      <th>790</th>\n",
              "      <td>891</td>\n",
              "      <td>1</td>\n",
              "      <td>-7.0</td>\n",
              "      <td>20.0</td>\n",
              "      <td>665.0</td>\n",
              "      <td>0</td>\n",
              "      <td>0</td>\n",
              "      <td>1</td>\n",
              "      <td>0</td>\n",
              "      <td>0</td>\n",
              "      <td>0</td>\n",
              "      <td>0</td>\n",
              "      <td>1703.0</td>\n",
              "      <td>2360</td>\n",
              "      <td>110.0</td>\n",
              "      <td>30.0</td>\n",
              "      <td>2.0</td>\n",
              "    </tr>\n",
              "    <tr>\n",
              "      <th>793</th>\n",
              "      <td>894</td>\n",
              "      <td>1</td>\n",
              "      <td>116.0</td>\n",
              "      <td>22.0</td>\n",
              "      <td>716.0</td>\n",
              "      <td>1</td>\n",
              "      <td>1</td>\n",
              "      <td>1</td>\n",
              "      <td>0</td>\n",
              "      <td>0</td>\n",
              "      <td>0</td>\n",
              "      <td>0</td>\n",
              "      <td>1083.0</td>\n",
              "      <td>3018</td>\n",
              "      <td>7.0</td>\n",
              "      <td>29.0</td>\n",
              "      <td>2.0</td>\n",
              "    </tr>\n",
              "    <tr>\n",
              "      <th>797</th>\n",
              "      <td>898</td>\n",
              "      <td>1</td>\n",
              "      <td>85.0</td>\n",
              "      <td>20.0</td>\n",
              "      <td>843.0</td>\n",
              "      <td>1</td>\n",
              "      <td>1</td>\n",
              "      <td>1</td>\n",
              "      <td>0</td>\n",
              "      <td>0</td>\n",
              "      <td>0</td>\n",
              "      <td>0</td>\n",
              "      <td>1078.0</td>\n",
              "      <td>3212</td>\n",
              "      <td>109.0</td>\n",
              "      <td>30.0</td>\n",
              "      <td>2.0</td>\n",
              "    </tr>\n",
              "    <tr>\n",
              "      <th>798</th>\n",
              "      <td>899</td>\n",
              "      <td>1</td>\n",
              "      <td>-293.0</td>\n",
              "      <td>21.0</td>\n",
              "      <td>818.0</td>\n",
              "      <td>0</td>\n",
              "      <td>0</td>\n",
              "      <td>1</td>\n",
              "      <td>0</td>\n",
              "      <td>0</td>\n",
              "      <td>0</td>\n",
              "      <td>0</td>\n",
              "      <td>1002.0</td>\n",
              "      <td>2983</td>\n",
              "      <td>0.0</td>\n",
              "      <td>29.0</td>\n",
              "      <td>2.0</td>\n",
              "    </tr>\n",
              "    <tr>\n",
              "      <th>803</th>\n",
              "      <td>904</td>\n",
              "      <td>1</td>\n",
              "      <td>512.0</td>\n",
              "      <td>18.0</td>\n",
              "      <td>601.0</td>\n",
              "      <td>1</td>\n",
              "      <td>1</td>\n",
              "      <td>1</td>\n",
              "      <td>0</td>\n",
              "      <td>0</td>\n",
              "      <td>0</td>\n",
              "      <td>0</td>\n",
              "      <td>997.0</td>\n",
              "      <td>3060</td>\n",
              "      <td>104.0</td>\n",
              "      <td>26.0</td>\n",
              "      <td>1.0</td>\n",
              "    </tr>\n",
              "  </tbody>\n",
              "</table>\n",
              "<p>235 rows × 17 columns</p>\n",
              "</div>"
            ],
            "text/plain": [
              "      ID  Default  Checking_amount  ...  Emp_duration    Age  No_of_credit_acc\n",
              "3    104        1            300.0  ...            0.0  29.0               1.0\n",
              "4    105        1             63.0  ...            4.0  30.0               1.0\n",
              "9    110        1            189.0  ...            0.0  29.0               1.0\n",
              "10   111        1            214.0  ...            0.0  25.0               1.0\n",
              "13   114        1            262.0  ...           10.0  24.0               4.0\n",
              "..   ...      ...              ...  ...            ...   ...               ...\n",
              "790  891        1             -7.0  ...          110.0  30.0               2.0\n",
              "793  894        1            116.0  ...            7.0  29.0               2.0\n",
              "797  898        1             85.0  ...          109.0  30.0               2.0\n",
              "798  899        1           -293.0  ...            0.0  29.0               2.0\n",
              "803  904        1            512.0  ...          104.0  26.0               1.0\n",
              "\n",
              "[235 rows x 17 columns]"
            ]
          },
          "metadata": {
            "tags": []
          },
          "execution_count": 19
        }
      ]
    },
    {
      "cell_type": "code",
      "metadata": {
        "id": "tXEOK2bZ3GeN",
        "colab_type": "code",
        "outputId": "87088bfb-9f5f-4124-efd9-77d32c66db06",
        "colab": {
          "base_uri": "https://localhost:8080/",
          "height": 34
        }
      },
      "source": [
        "df['Default'].sum()"
      ],
      "execution_count": 20,
      "outputs": [
        {
          "output_type": "execute_result",
          "data": {
            "text/plain": [
              "235"
            ]
          },
          "metadata": {
            "tags": []
          },
          "execution_count": 20
        }
      ]
    },
    {
      "cell_type": "code",
      "metadata": {
        "id": "dkaMdT253PNd",
        "colab_type": "code",
        "outputId": "7fc3c118-0cfb-4d01-bb29-08052175d7c4",
        "colab": {
          "base_uri": "https://localhost:8080/",
          "height": 264
        }
      },
      "source": [
        "labels = 'Defaulters', 'Payer'\n",
        "sizes = [df['Default'].sum(),804-df['Default'].sum()]\n",
        "colors = ['lightcoral', 'lightskyblue']\n",
        "explode = (0.1, 0)  # explode 1st slice\n",
        "\n",
        "# Plot\n",
        "plt.pie(sizes, explode=explode, labels=labels, colors=colors,\n",
        "autopct='%1.1f%%', shadow=True, startangle=140)\n",
        "plt.title('Loan Defaulters vs Payer')\n",
        "plt.axis('equal')\n",
        "plt.show()"
      ],
      "execution_count": 21,
      "outputs": [
        {
          "output_type": "display_data",
          "data": {
            "image/png": "[encoded data removed]",
            "text/plain": [
              "<Figure size 432x288 with 1 Axes>"
            ]
          },
          "metadata": {
            "tags": []
          }
        }
      ]
    },
    {
      "cell_type": "code",
      "metadata": {
        "id": "yuetCsbZ5SsS",
        "colab_type": "code",
        "outputId": "a7a30de7-1258-4130-bd94-5b2e6f12a75e",
        "colab": {
          "base_uri": "https://localhost:8080/",
          "height": 34
        }
      },
      "source": [
        "Deafaulter['Emp_status'].sum()"
      ],
      "execution_count": 22,
      "outputs": [
        {
          "output_type": "execute_result",
          "data": {
            "text/plain": [
              "87"
            ]
          },
          "metadata": {
            "tags": []
          },
          "execution_count": 22
        }
      ]
    },
    {
      "cell_type": "code",
      "metadata": {
        "id": "n3xHQU9y4oDs",
        "colab_type": "code",
        "outputId": "769703d9-4b62-4fc2-ad5c-12fb0dc3cfd9",
        "colab": {
          "base_uri": "https://localhost:8080/",
          "height": 279
        }
      },
      "source": [
        "labels = 'Employed', 'Unemployed'\n",
        "sizes = [87,235-87]\n",
        "colors = ['#003f5c', '#00a19c']\n",
        "explode = (0.1, 0)  # explode 1st slice\n",
        "\n",
        "# Plot\n",
        "plt.pie(sizes, explode=explode, labels=labels, colors=colors,\n",
        "autopct='%1.1f%%', shadow=True, startangle=140)\n",
        "plt.title('Defaulters\\n(Employed vs Unemployed)')\n",
        "plt.axis('equal')\n",
        "plt.show()"
      ],
      "execution_count": 24,
      "outputs": [
        {
          "output_type": "display_data",
          "data": {
            "image/png": "[encoded data removed]",
            "text/plain": [
              "<Figure size 432x288 with 1 Axes>"
            ]
          },
          "metadata": {
            "tags": []
          }
        }
      ]
    },
    {
      "cell_type": "code",
      "metadata": {
        "id": "i2TMdaT75Ktf",
        "colab_type": "code",
        "outputId": "7ac8e389-7987-440b-d2d0-42c8240f5a08",
        "colab": {
          "base_uri": "https://localhost:8080/",
          "height": 279
        }
      },
      "source": [
        "labels = 'Married', 'Single'\n",
        "sizes = [Deafaulter['Marital_status'].sum(),235-Deafaulter['Marital_status'].sum()]\n",
        "colors = ['#f1bb7c', '#d1d1d1']\n",
        "explode = (0.1, 0)  # explode 1st slice\n",
        "\n",
        "# Plot\n",
        "plt.pie(sizes, explode=explode, labels=labels, colors=colors,\n",
        "autopct='%1.1f%%', shadow=True, startangle=140)\n",
        "plt.title('Defaulters\\n(Married vs Single)')\n",
        "plt.axis('equal')\n",
        "plt.show()"
      ],
      "execution_count": 0,
      "outputs": [
        {
          "output_type": "display_data",
          "data": {
            "image/png": "[encoded data removed]",
            "text/plain": [
              "<Figure size 432x288 with 1 Axes>"
            ]
          },
          "metadata": {
            "tags": []
          }
        }
      ]
    },
    {
      "cell_type": "code",
      "metadata": {
        "id": "qJ2QTlHHHEg4",
        "colab_type": "code",
        "outputId": "9f1f57e7-6720-47ee-f972-e85678e08969",
        "colab": {
          "base_uri": "https://localhost:8080/",
          "height": 350
        }
      },
      "source": [
        "fig = plt.figure()\n",
        "ax = fig.add_axes([0,0,1,1])\n",
        "ax.bar(df['Age'],df['Credit_score'])\n",
        "ax.set_ylabel('Credit Score')\n",
        "ax.set_xlabel('Age')\n",
        "\n",
        "plt.show()\n"
      ],
      "execution_count": 25,
      "outputs": [
        {
          "output_type": "display_data",
          "data": {
            "image/png": "[encoded data removed]",
            "text/plain": [
              "<Figure size 432x288 with 1 Axes>"
            ]
          },
          "metadata": {
            "tags": []
          }
        }
      ]
    },
    {
      "cell_type": "code",
      "metadata": {
        "id": "AEbsPPWzIhxP",
        "colab_type": "code",
        "outputId": "aba59e9c-1420-4a5f-f365-b18bbfde15f9",
        "colab": {
          "base_uri": "https://localhost:8080/",
          "height": 330
        }
      },
      "source": [
        "plt.hist(Deafaulter['Age'], normed=True, bins=45)\n",
        "plt.ylabel('Defaulter %age')\n",
        "plt.xlabel('Age')\n",
        "\n",
        "plt.show()\n"
      ],
      "execution_count": 26,
      "outputs": [
        {
          "output_type": "stream",
          "text": [
            "/usr/local/lib/python3.6/dist-packages/ipykernel_launcher.py:1: MatplotlibDeprecationWarning: \n",
            "The 'normed' kwarg was deprecated in Matplotlib 2.1 and will be removed in 3.1. Use 'density' instead.\n",
            "  \"\"\"Entry point for launching an IPython kernel.\n"
          ],
          "name": "stderr"
        },
        {
          "output_type": "display_data",
          "data": {
            "image/png": "[encoded data removed]",
            "text/plain": [
              "<Figure size 432x288 with 1 Axes>"
            ]
          },
          "metadata": {
            "tags": []
          }
        }
      ]
    },
    {
      "cell_type": "code",
      "metadata": {
        "id": "LkO7xWN4QxIh",
        "colab_type": "code",
        "outputId": "c9852114-271b-4b9e-cc27-f4ffb18ce14a",
        "colab": {
          "base_uri": "https://localhost:8080/",
          "height": 330
        }
      },
      "source": [
        "plt.hist(Deafaulter['Credit_score'], normed=True, bins=45)\n",
        "plt.ylabel('Defaulter %age')\n",
        "plt.xlabel('Credit Score')\n",
        "plt.show()"
      ],
      "execution_count": 27,
      "outputs": [
        {
          "output_type": "stream",
          "text": [
            "/usr/local/lib/python3.6/dist-packages/ipykernel_launcher.py:1: MatplotlibDeprecationWarning: \n",
            "The 'normed' kwarg was deprecated in Matplotlib 2.1 and will be removed in 3.1. Use 'density' instead.\n",
            "  \"\"\"Entry point for launching an IPython kernel.\n"
          ],
          "name": "stderr"
        },
        {
          "output_type": "display_data",
          "data": {
            "image/png": "[encoded data removed]",
            "text/plain": [
              "<Figure size 432x288 with 1 Axes>"
            ]
          },
          "metadata": {
            "tags": []
          }
        }
      ]
    },
    {
      "cell_type": "code",
      "metadata": {
        "id": "gQdu2cR7VsyB",
        "colab_type": "code",
        "outputId": "bb4deb61-ecaa-48ed-a576-b701401b2654",
        "colab": {
          "base_uri": "https://localhost:8080/",
          "height": 330
        }
      },
      "source": [
        "plt.hist(Deafaulter['Amount'], normed=True, bins=45)\n",
        "plt.ylabel('Defaulter %age')\n",
        "plt.xlabel('Amount')\n",
        "plt.show()"
      ],
      "execution_count": 28,
      "outputs": [
        {
          "output_type": "stream",
          "text": [
            "/usr/local/lib/python3.6/dist-packages/ipykernel_launcher.py:1: MatplotlibDeprecationWarning: \n",
            "The 'normed' kwarg was deprecated in Matplotlib 2.1 and will be removed in 3.1. Use 'density' instead.\n",
            "  \"\"\"Entry point for launching an IPython kernel.\n"
          ],
          "name": "stderr"
        },
        {
          "output_type": "display_data",
          "data": {
            "image/png": "[encoded data removed]",
            "text/plain": [
              "<Figure size 432x288 with 1 Axes>"
            ]
          },
          "metadata": {
            "tags": []
          }
        }
      ]
    },
    {
      "cell_type": "code",
      "metadata": {
        "id": "P6mWDI9pYBvj",
        "colab_type": "code",
        "outputId": "96fe6028-74d7-4fcb-9c6e-c7cc41d6bf1b",
        "colab": {
          "base_uri": "https://localhost:8080/",
          "height": 330
        }
      },
      "source": [
        "plt.hist(Deafaulter['Checking_amount'], normed=True, bins=45)\n",
        "plt.ylabel('Defaulter %age')\n",
        "plt.xlabel('Checking amount')\n",
        "plt.show()"
      ],
      "execution_count": 29,
      "outputs": [
        {
          "output_type": "stream",
          "text": [
            "/usr/local/lib/python3.6/dist-packages/ipykernel_launcher.py:1: MatplotlibDeprecationWarning: \n",
            "The 'normed' kwarg was deprecated in Matplotlib 2.1 and will be removed in 3.1. Use 'density' instead.\n",
            "  \"\"\"Entry point for launching an IPython kernel.\n"
          ],
          "name": "stderr"
        },
        {
          "output_type": "display_data",
          "data": {
            "image/png": "[encoded data removed]",
            "text/plain": [
              "<Figure size 432x288 with 1 Axes>"
            ]
          },
          "metadata": {
            "tags": []
          }
        }
      ]
    },
    {
      "cell_type": "code",
      "metadata": {
        "id": "gMBu5jIMYiXa",
        "colab_type": "code",
        "outputId": "4d6f7678-cfef-4c66-bec4-eb77d4b4aca0",
        "colab": {
          "base_uri": "https://localhost:8080/",
          "height": 279
        }
      },
      "source": [
        "plt.scatter(Deafaulter['Age'] ,Deafaulter['Credit_score'],  c=\"r\", alpha=0.5,label=\"Defaulters\"\n",
        "            )\n",
        "plt.scatter(Good['Age'],Good['Credit_score'],color='g',alpha=0.5,label=\"Payers\")\n",
        "plt.xlabel(\"Age\")\n",
        "plt.ylabel(\"Credit score\")\n",
        "plt.legend(loc='upper left')\n",
        "plt.show()"
      ],
      "execution_count": 30,
      "outputs": [
        {
          "output_type": "display_data",
          "data": {
            "image/png": "[encoded data removed]",
            "text/plain": [
              "<Figure size 432x288 with 1 Axes>"
            ]
          },
          "metadata": {
            "tags": []
          }
        }
      ]
    },
    {
      "cell_type": "code",
      "metadata": {
        "id": "AtedV5ZqZM76",
        "colab_type": "code",
        "colab": {}
      },
      "source": [
        "def_loan =pd.DataFrame(Deafaulter[['Car_loan','Home_loan','Education_loan']].sum(axis=0))"
      ],
      "execution_count": 0,
      "outputs": []
    },
    {
      "cell_type": "code",
      "metadata": {
        "id": "uGcefFLUcyos",
        "colab_type": "code",
        "colab": {}
      },
      "source": [
        "good_loan = pd.DataFrame(Good[['Car_loan','Home_loan','Education_loan']].sum(axis=0))"
      ],
      "execution_count": 0,
      "outputs": []
    },
    {
      "cell_type": "code",
      "metadata": {
        "id": "V61h2S66hwGr",
        "colab_type": "code",
        "outputId": "4bf8edb3-3b70-4966-b4c9-623fa48e17db",
        "colab": {
          "base_uri": "https://localhost:8080/",
          "height": 136
        }
      },
      "source": [
        "good_loan"
      ],
      "execution_count": 33,
      "outputs": [
        {
          "output_type": "execute_result",
          "data": {
            "text/html": [
              "<div>\n",
              "<style scoped>\n",
              "    .dataframe tbody tr th:only-of-type {\n",
              "        vertical-align: middle;\n",
              "    }\n",
              "\n",
              "    .dataframe tbody tr th {\n",
              "        vertical-align: top;\n",
              "    }\n",
              "\n",
              "    .dataframe thead th {\n",
              "        text-align: right;\n",
              "    }\n",
              "</style>\n",
              "<table border=\"1\" class=\"dataframe\">\n",
              "  <thead>\n",
              "    <tr style=\"text-align: right;\">\n",
              "      <th></th>\n",
              "      <th>0</th>\n",
              "    </tr>\n",
              "  </thead>\n",
              "  <tbody>\n",
              "    <tr>\n",
              "      <th>Car_loan</th>\n",
              "      <td>166</td>\n",
              "    </tr>\n",
              "    <tr>\n",
              "      <th>Home_loan</th>\n",
              "      <td>37</td>\n",
              "    </tr>\n",
              "    <tr>\n",
              "      <th>Education_loan</th>\n",
              "      <td>11</td>\n",
              "    </tr>\n",
              "  </tbody>\n",
              "</table>\n",
              "</div>"
            ],
            "text/plain": [
              "                  0\n",
              "Car_loan        166\n",
              "Home_loan        37\n",
              "Education_loan   11"
            ]
          },
          "metadata": {
            "tags": []
          },
          "execution_count": 33
        }
      ]
    },
    {
      "cell_type": "code",
      "metadata": {
        "id": "22tuu0KXfFv-",
        "colab_type": "code",
        "outputId": "13829b9b-2527-4fce-a3ba-4d21428d58ad",
        "colab": {
          "base_uri": "https://localhost:8080/",
          "height": 265
        }
      },
      "source": [
        "data1 = [97,5,34]\n",
        "data2 = [166,37,11]\n",
        "width =0.3\n",
        "plt.bar(['Car loan','Home loan','Education loan'], data1, width=width)\n",
        "plt.bar(np.arange(len(data2))+ width, data2, width=width)\n",
        "plt.legend(['Defaulters','Payers'])\n",
        "plt.show()"
      ],
      "execution_count": 34,
      "outputs": [
        {
          "output_type": "display_data",
          "data": {
            "image/png": "[encoded data removed]",
            "text/plain": [
              "<Figure size 432x288 with 1 Axes>"
            ]
          },
          "metadata": {
            "tags": []
          }
        }
      ]
    },
    {
      "cell_type": "code",
      "metadata": {
        "id": "8qz7zqFBhizF",
        "colab_type": "code",
        "colab": {}
      },
      "source": [
        ""
      ],
      "execution_count": 0,
      "outputs": []
    }
  ]
}