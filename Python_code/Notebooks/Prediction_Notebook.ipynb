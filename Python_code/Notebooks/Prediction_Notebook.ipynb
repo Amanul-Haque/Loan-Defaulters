{
  "nbformat": 4,
  "nbformat_minor": 0,
  "metadata": {
    "kernelspec": {
      "display_name": "Python 3",
      "language": "python",
      "name": "python3"
    },
    "language_info": {
      "codemirror_mode": {
        "name": "ipython",
        "version": 3
      },
      "file_extension": ".py",
      "mimetype": "text/x-python",
      "name": "python",
      "nbconvert_exporter": "python",
      "pygments_lexer": "ipython3",
      "version": "3.7.4"
    },
    "colab": {
      "name": "Untitled.ipynb",
      "provenance": []
    }
  },
  "cells": [
    {
      "cell_type": "code",
      "metadata": {
        "id": "Ihlycaih6W6L",
        "colab_type": "code",
        "outputId": "4cd7ea9c-8040-4ab3-e532-6ad2d3e06508",
        "colab": {
          "base_uri": "https://localhost:8080/",
          "height": 63
        }
      },
      "source": [
        "import pandas as pd\n",
        "import pandas as pd\n",
        "import numpy as np\n",
        "import matplotlib.pyplot as plt\n",
        "%matplotlib inline\n",
        "from tensorflow import keras"
      ],
      "execution_count": 1,
      "outputs": [
        {
          "output_type": "display_data",
          "data": {
            "text/html": [
              "<p style=\"color: red;\">\n",
              "The default version of TensorFlow in Colab will soon switch to TensorFlow 2.x.<br>\n",
              "We recommend you <a href=\"https://www.tensorflow.org/guide/migrate\" target=\"_blank\">upgrade</a> now \n",
              "or ensure your notebook will continue to use TensorFlow 1.x via the <code>%tensorflow_version 1.x</code> magic:\n",
              "<a href=\"https://colab.research.google.com/notebooks/tensorflow_version.ipynb\" target=\"_blank\">more info</a>.</p>\n"
            ],
            "text/plain": [
              "<IPython.core.display.HTML object>"
            ]
          },
          "metadata": {
            "tags": []
          }
        }
      ]
    },
    {
      "cell_type": "code",
      "metadata": {
        "id": "w2Svycfy6W6Q",
        "colab_type": "code",
        "colab": {}
      },
      "source": [
        "import os\n",
        "from pydrive.auth import GoogleAuth\n",
        "from pydrive.drive import GoogleDrive\n",
        "from google.colab import auth\n",
        "from oauth2client.client import GoogleCredentials"
      ],
      "execution_count": 0,
      "outputs": []
    },
    {
      "cell_type": "code",
      "metadata": {
        "id": "au3Od89e6W6T",
        "colab_type": "code",
        "colab": {}
      },
      "source": [
        "auth.authenticate_user()\n",
        "gauth = GoogleAuth()\n",
        "gauth.credentials = GoogleCredentials.get_application_default()\n",
        "drive = GoogleDrive(gauth)"
      ],
      "execution_count": 0,
      "outputs": []
    },
    {
      "cell_type": "code",
      "metadata": {
        "id": "kOg2eL_N7Iau",
        "colab_type": "code",
        "colab": {}
      },
      "source": [
        "df = drive.CreateFile({'id':'1IpnjJDt7t3u4hhuPb6dXimdLtdjaXtfJ'})\n",
        "df.GetContentFile('final.xlsx')\n"
      ],
      "execution_count": 0,
      "outputs": []
    },
    {
      "cell_type": "code",
      "metadata": {
        "id": "MphegHlU70zF",
        "colab_type": "code",
        "colab": {}
      },
      "source": [
        "import io"
      ],
      "execution_count": 0,
      "outputs": []
    },
    {
      "cell_type": "code",
      "metadata": {
        "id": "j6lmzg8E71p_",
        "colab_type": "code",
        "colab": {}
      },
      "source": [
        "sub = drive.CreateFile({'id':'1q-mJxQHhnwWocNnC5kRcmSojlF1yvqCN'})\n",
        "sub.GetContentFile('submission.xlsx')"
      ],
      "execution_count": 0,
      "outputs": []
    },
    {
      "cell_type": "code",
      "metadata": {
        "id": "53k13GvB73R9",
        "colab_type": "code",
        "colab": {}
      },
      "source": [
        "sub = pd.read_excel('submission.xlsx')"
      ],
      "execution_count": 0,
      "outputs": []
    },
    {
      "cell_type": "code",
      "metadata": {
        "id": "ECj_Aobr6W6X",
        "colab_type": "code",
        "colab": {}
      },
      "source": [
        "df['Gender']=pd.Series(np.where(df.Gender.values == 'Male', 1, 0),\n",
        "          df.index)\n",
        "df['Marital_status']=pd.Series(np.where(df.Marital_status.values == 'Married', 1, 0),\n",
        "                               df.index)\n",
        "df['Car_loan']=pd.Series(np.where(df.Car_loan.values == 'Yes', 1, 0),\n",
        "                               df.index)\n",
        "\n",
        "df['Personal_loan']=pd.Series(np.where(df.Personal_loan.values == 'Yes', 1, 0),\n",
        "                               df.index)\n",
        "df['Education_loan']=pd.Series(np.where(df.Education_loan.values == 'Yes', 1, 0),\n",
        "                               df.index)\n",
        "df['Emp_status']=pd.Series(np.where(df.Emp_status.values == 'employed', 1, 0),\n",
        "                               df.index)\n",
        "df['Home_loan']=pd.Series(np.where(df.Home_loan.values == 'Yes', 1, 0),\n",
        "                               df.index)"
      ],
      "execution_count": 0,
      "outputs": []
    },
    {
      "cell_type": "code",
      "metadata": {
        "id": "Ym3M0Fi56W6Z",
        "colab_type": "code",
        "colab": {}
      },
      "source": [
        "df= df[['Checking_amount','Credit_score','Saving_amount','Age']]"
      ],
      "execution_count": 0,
      "outputs": []
    },
    {
      "cell_type": "code",
      "metadata": {
        "id": "Q0pDj972-hbq",
        "colab_type": "code",
        "outputId": "02f38487-2653-4117-80f2-604e84f3d8fd",
        "colab": {
          "base_uri": "https://localhost:8080/",
          "height": 419
        }
      },
      "source": [
        "df"
      ],
      "execution_count": 9,
      "outputs": [
        {
          "output_type": "execute_result",
          "data": {
            "text/html": [
              "<div>\n",
              "<style scoped>\n",
              "    .dataframe tbody tr th:only-of-type {\n",
              "        vertical-align: middle;\n",
              "    }\n",
              "\n",
              "    .dataframe tbody tr th {\n",
              "        vertical-align: top;\n",
              "    }\n",
              "\n",
              "    .dataframe thead th {\n",
              "        text-align: right;\n",
              "    }\n",
              "</style>\n",
              "<table border=\"1\" class=\"dataframe\">\n",
              "  <thead>\n",
              "    <tr style=\"text-align: right;\">\n",
              "      <th></th>\n",
              "      <th>Checking_amount</th>\n",
              "      <th>Credit_score</th>\n",
              "      <th>Saving_amount</th>\n",
              "      <th>Age</th>\n",
              "    </tr>\n",
              "  </thead>\n",
              "  <tbody>\n",
              "    <tr>\n",
              "      <th>0</th>\n",
              "      <td>111.0</td>\n",
              "      <td>668.0</td>\n",
              "      <td>3190.0</td>\n",
              "      <td>24</td>\n",
              "    </tr>\n",
              "    <tr>\n",
              "      <th>1</th>\n",
              "      <td>270.0</td>\n",
              "      <td>612.0</td>\n",
              "      <td>3237.0</td>\n",
              "      <td>26</td>\n",
              "    </tr>\n",
              "    <tr>\n",
              "      <th>2</th>\n",
              "      <td>211.0</td>\n",
              "      <td>751.0</td>\n",
              "      <td>3356.0</td>\n",
              "      <td>36</td>\n",
              "    </tr>\n",
              "    <tr>\n",
              "      <th>3</th>\n",
              "      <td>325.0</td>\n",
              "      <td>722.0</td>\n",
              "      <td>3210.0</td>\n",
              "      <td>29</td>\n",
              "    </tr>\n",
              "    <tr>\n",
              "      <th>4</th>\n",
              "      <td>1237.0</td>\n",
              "      <td>841.0</td>\n",
              "      <td>2797.0</td>\n",
              "      <td>31</td>\n",
              "    </tr>\n",
              "    <tr>\n",
              "      <th>...</th>\n",
              "      <td>...</td>\n",
              "      <td>...</td>\n",
              "      <td>...</td>\n",
              "      <td>...</td>\n",
              "    </tr>\n",
              "    <tr>\n",
              "      <th>198</th>\n",
              "      <td>17.0</td>\n",
              "      <td>562.0</td>\n",
              "      <td>2658.0</td>\n",
              "      <td>28</td>\n",
              "    </tr>\n",
              "    <tr>\n",
              "      <th>199</th>\n",
              "      <td>590.0</td>\n",
              "      <td>873.0</td>\n",
              "      <td>3469.0</td>\n",
              "      <td>29</td>\n",
              "    </tr>\n",
              "    <tr>\n",
              "      <th>200</th>\n",
              "      <td>343.0</td>\n",
              "      <td>824.0</td>\n",
              "      <td>3426.0</td>\n",
              "      <td>31</td>\n",
              "    </tr>\n",
              "    <tr>\n",
              "      <th>201</th>\n",
              "      <td>709.0</td>\n",
              "      <td>811.0</td>\n",
              "      <td>3114.0</td>\n",
              "      <td>28</td>\n",
              "    </tr>\n",
              "    <tr>\n",
              "      <th>202</th>\n",
              "      <td>991.0</td>\n",
              "      <td>794.0</td>\n",
              "      <td>3309.0</td>\n",
              "      <td>33</td>\n",
              "    </tr>\n",
              "  </tbody>\n",
              "</table>\n",
              "<p>203 rows × 4 columns</p>\n",
              "</div>"
            ],
            "text/plain": [
              "     Checking_amount  Credit_score  Saving_amount  Age\n",
              "0              111.0         668.0         3190.0   24\n",
              "1              270.0         612.0         3237.0   26\n",
              "2              211.0         751.0         3356.0   36\n",
              "3              325.0         722.0         3210.0   29\n",
              "4             1237.0         841.0         2797.0   31\n",
              "..               ...           ...            ...  ...\n",
              "198             17.0         562.0         2658.0   28\n",
              "199            590.0         873.0         3469.0   29\n",
              "200            343.0         824.0         3426.0   31\n",
              "201            709.0         811.0         3114.0   28\n",
              "202            991.0         794.0         3309.0   33\n",
              "\n",
              "[203 rows x 4 columns]"
            ]
          },
          "metadata": {
            "tags": []
          },
          "execution_count": 9
        }
      ]
    },
    {
      "cell_type": "code",
      "metadata": {
        "id": "ez0B81sRsZfF",
        "colab_type": "code",
        "colab": {}
      },
      "source": [
        "from sklearn.preprocessing import MinMaxScaler"
      ],
      "execution_count": 0,
      "outputs": []
    },
    {
      "cell_type": "code",
      "metadata": {
        "id": "JGEc44W3soTH",
        "colab_type": "code",
        "colab": {}
      },
      "source": [
        "scaler = MinMaxScaler()"
      ],
      "execution_count": 0,
      "outputs": []
    },
    {
      "cell_type": "code",
      "metadata": {
        "id": "TBD7wsQfsqiV",
        "colab_type": "code",
        "colab": {
          "base_uri": "https://localhost:8080/",
          "height": 34
        },
        "outputId": "be1b4126-8ae7-4652-d517-465142b57616"
      },
      "source": [
        "scaler.fit(df)"
      ],
      "execution_count": 12,
      "outputs": [
        {
          "output_type": "execute_result",
          "data": {
            "text/plain": [
              "MinMaxScaler(copy=True, feature_range=(0, 1))"
            ]
          },
          "metadata": {
            "tags": []
          },
          "execution_count": 12
        }
      ]
    },
    {
      "cell_type": "code",
      "metadata": {
        "id": "C2dxji1OtAgY",
        "colab_type": "code",
        "colab": {}
      },
      "source": [
        "df = pd.DataFrame(data=scaler.transform(df),\n",
        "                       columns=df.columns,\n",
        "                       index=df.index)"
      ],
      "execution_count": 0,
      "outputs": []
    },
    {
      "cell_type": "code",
      "metadata": {
        "id": "IROeP56f8ZdH",
        "colab_type": "code",
        "colab": {}
      },
      "source": [
        "auth.authenticate_user()\n",
        "gauth = GoogleAuth()\n",
        "gauth.credentials = GoogleCredentials.get_application_default()\n",
        "drive = GoogleDrive(gauth)"
      ],
      "execution_count": 0,
      "outputs": []
    },
    {
      "cell_type": "code",
      "metadata": {
        "id": "Bfa-jakX8mJ9",
        "colab_type": "code",
        "colab": {}
      },
      "source": [
        "model = drive.CreateFile({'id':'1-xZWrpY4GsxpxMvjwjRUgC1cLMd3ktWc'})\n",
        "model.GetContentFile('model.h5')"
      ],
      "execution_count": 0,
      "outputs": []
    },
    {
      "cell_type": "code",
      "metadata": {
        "id": "U7_w5a92s3Zm",
        "colab_type": "code",
        "colab": {
          "base_uri": "https://localhost:8080/",
          "height": 419
        },
        "outputId": "54f75a79-2d18-4400-f838-b7af6a7d94cd"
      },
      "source": [
        "df"
      ],
      "execution_count": 19,
      "outputs": [
        {
          "output_type": "execute_result",
          "data": {
            "text/html": [
              "<div>\n",
              "<style scoped>\n",
              "    .dataframe tbody tr th:only-of-type {\n",
              "        vertical-align: middle;\n",
              "    }\n",
              "\n",
              "    .dataframe tbody tr th {\n",
              "        vertical-align: top;\n",
              "    }\n",
              "\n",
              "    .dataframe thead th {\n",
              "        text-align: right;\n",
              "    }\n",
              "</style>\n",
              "<table border=\"1\" class=\"dataframe\">\n",
              "  <thead>\n",
              "    <tr style=\"text-align: right;\">\n",
              "      <th></th>\n",
              "      <th>Checking_amount</th>\n",
              "      <th>Credit_score</th>\n",
              "      <th>Saving_amount</th>\n",
              "      <th>Age</th>\n",
              "    </tr>\n",
              "  </thead>\n",
              "  <tbody>\n",
              "    <tr>\n",
              "      <th>0</th>\n",
              "      <td>111.0</td>\n",
              "      <td>668.0</td>\n",
              "      <td>3190.0</td>\n",
              "      <td>24</td>\n",
              "    </tr>\n",
              "    <tr>\n",
              "      <th>1</th>\n",
              "      <td>270.0</td>\n",
              "      <td>612.0</td>\n",
              "      <td>3237.0</td>\n",
              "      <td>26</td>\n",
              "    </tr>\n",
              "    <tr>\n",
              "      <th>2</th>\n",
              "      <td>211.0</td>\n",
              "      <td>751.0</td>\n",
              "      <td>3356.0</td>\n",
              "      <td>36</td>\n",
              "    </tr>\n",
              "    <tr>\n",
              "      <th>3</th>\n",
              "      <td>325.0</td>\n",
              "      <td>722.0</td>\n",
              "      <td>3210.0</td>\n",
              "      <td>29</td>\n",
              "    </tr>\n",
              "    <tr>\n",
              "      <th>4</th>\n",
              "      <td>1237.0</td>\n",
              "      <td>841.0</td>\n",
              "      <td>2797.0</td>\n",
              "      <td>31</td>\n",
              "    </tr>\n",
              "    <tr>\n",
              "      <th>...</th>\n",
              "      <td>...</td>\n",
              "      <td>...</td>\n",
              "      <td>...</td>\n",
              "      <td>...</td>\n",
              "    </tr>\n",
              "    <tr>\n",
              "      <th>198</th>\n",
              "      <td>17.0</td>\n",
              "      <td>562.0</td>\n",
              "      <td>2658.0</td>\n",
              "      <td>28</td>\n",
              "    </tr>\n",
              "    <tr>\n",
              "      <th>199</th>\n",
              "      <td>590.0</td>\n",
              "      <td>873.0</td>\n",
              "      <td>3469.0</td>\n",
              "      <td>29</td>\n",
              "    </tr>\n",
              "    <tr>\n",
              "      <th>200</th>\n",
              "      <td>343.0</td>\n",
              "      <td>824.0</td>\n",
              "      <td>3426.0</td>\n",
              "      <td>31</td>\n",
              "    </tr>\n",
              "    <tr>\n",
              "      <th>201</th>\n",
              "      <td>709.0</td>\n",
              "      <td>811.0</td>\n",
              "      <td>3114.0</td>\n",
              "      <td>28</td>\n",
              "    </tr>\n",
              "    <tr>\n",
              "      <th>202</th>\n",
              "      <td>991.0</td>\n",
              "      <td>794.0</td>\n",
              "      <td>3309.0</td>\n",
              "      <td>33</td>\n",
              "    </tr>\n",
              "  </tbody>\n",
              "</table>\n",
              "<p>203 rows × 4 columns</p>\n",
              "</div>"
            ],
            "text/plain": [
              "     Checking_amount  Credit_score  Saving_amount  Age\n",
              "0              111.0         668.0         3190.0   24\n",
              "1              270.0         612.0         3237.0   26\n",
              "2              211.0         751.0         3356.0   36\n",
              "3              325.0         722.0         3210.0   29\n",
              "4             1237.0         841.0         2797.0   31\n",
              "..               ...           ...            ...  ...\n",
              "198             17.0         562.0         2658.0   28\n",
              "199            590.0         873.0         3469.0   29\n",
              "200            343.0         824.0         3426.0   31\n",
              "201            709.0         811.0         3114.0   28\n",
              "202            991.0         794.0         3309.0   33\n",
              "\n",
              "[203 rows x 4 columns]"
            ]
          },
          "metadata": {
            "tags": []
          },
          "execution_count": 19
        }
      ]
    },
    {
      "cell_type": "code",
      "metadata": {
        "id": "rwS6ibQ66W6c",
        "colab_type": "code",
        "outputId": "dcbf1f28-6ee8-414a-cf8c-a184f6533383",
        "colab": {
          "base_uri": "https://localhost:8080/",
          "height": 819
        }
      },
      "source": [
        "from keras.models import load_model\n",
        " \n",
        "# load model\n",
        "model = load_model('model.h5')\n",
        "# summarize model.\n",
        "model.summary()"
      ],
      "execution_count": 15,
      "outputs": [
        {
          "output_type": "stream",
          "text": [
            "WARNING:tensorflow:From /usr/local/lib/python3.6/dist-packages/keras/backend/tensorflow_backend.py:541: The name tf.placeholder is deprecated. Please use tf.compat.v1.placeholder instead.\n",
            "\n",
            "WARNING:tensorflow:From /usr/local/lib/python3.6/dist-packages/keras/backend/tensorflow_backend.py:4432: The name tf.random_uniform is deprecated. Please use tf.random.uniform instead.\n",
            "\n",
            "WARNING:tensorflow:From /usr/local/lib/python3.6/dist-packages/keras/backend/tensorflow_backend.py:190: The name tf.get_default_session is deprecated. Please use tf.compat.v1.get_default_session instead.\n",
            "\n",
            "WARNING:tensorflow:From /usr/local/lib/python3.6/dist-packages/keras/backend/tensorflow_backend.py:197: The name tf.ConfigProto is deprecated. Please use tf.compat.v1.ConfigProto instead.\n",
            "\n",
            "WARNING:tensorflow:From /usr/local/lib/python3.6/dist-packages/keras/backend/tensorflow_backend.py:203: The name tf.Session is deprecated. Please use tf.compat.v1.Session instead.\n",
            "\n"
          ],
          "name": "stdout"
        },
        {
          "output_type": "stream",
          "text": [
            "Using TensorFlow backend.\n"
          ],
          "name": "stderr"
        },
        {
          "output_type": "stream",
          "text": [
            "WARNING:tensorflow:From /usr/local/lib/python3.6/dist-packages/keras/backend/tensorflow_backend.py:207: The name tf.global_variables is deprecated. Please use tf.compat.v1.global_variables instead.\n",
            "\n",
            "WARNING:tensorflow:From /usr/local/lib/python3.6/dist-packages/keras/backend/tensorflow_backend.py:216: The name tf.is_variable_initialized is deprecated. Please use tf.compat.v1.is_variable_initialized instead.\n",
            "\n",
            "WARNING:tensorflow:From /usr/local/lib/python3.6/dist-packages/keras/backend/tensorflow_backend.py:223: The name tf.variables_initializer is deprecated. Please use tf.compat.v1.variables_initializer instead.\n",
            "\n",
            "WARNING:tensorflow:From /usr/local/lib/python3.6/dist-packages/keras/optimizers.py:793: The name tf.train.Optimizer is deprecated. Please use tf.compat.v1.train.Optimizer instead.\n",
            "\n",
            "WARNING:tensorflow:From /usr/local/lib/python3.6/dist-packages/keras/backend/tensorflow_backend.py:3657: The name tf.log is deprecated. Please use tf.math.log instead.\n",
            "\n",
            "WARNING:tensorflow:From /usr/local/lib/python3.6/dist-packages/tensorflow_core/python/ops/nn_impl.py:183: where (from tensorflow.python.ops.array_ops) is deprecated and will be removed in a future version.\n",
            "Instructions for updating:\n",
            "Use tf.where in 2.0, which has the same broadcast rule as np.where\n",
            "WARNING:tensorflow:From /usr/local/lib/python3.6/dist-packages/keras/backend/tensorflow_backend.py:1033: The name tf.assign_add is deprecated. Please use tf.compat.v1.assign_add instead.\n",
            "\n",
            "WARNING:tensorflow:From /usr/local/lib/python3.6/dist-packages/keras/backend/tensorflow_backend.py:1020: The name tf.assign is deprecated. Please use tf.compat.v1.assign instead.\n",
            "\n",
            "Model: \"sequential_1\"\n",
            "_________________________________________________________________\n",
            "Layer (type)                 Output Shape              Param #   \n",
            "=================================================================\n",
            "dense_1 (Dense)              (None, 16)                80        \n",
            "_________________________________________________________________\n",
            "dense_2 (Dense)              (None, 16)                272       \n",
            "_________________________________________________________________\n",
            "dense_3 (Dense)              (None, 8)                 136       \n",
            "_________________________________________________________________\n",
            "dense_4 (Dense)              (None, 8)                 72        \n",
            "_________________________________________________________________\n",
            "dense_5 (Dense)              (None, 1)                 9         \n",
            "=================================================================\n",
            "Total params: 569\n",
            "Trainable params: 569\n",
            "Non-trainable params: 0\n",
            "_________________________________________________________________\n"
          ],
          "name": "stdout"
        }
      ]
    },
    {
      "cell_type": "code",
      "metadata": {
        "id": "EoAxPPC36W6g",
        "colab_type": "code",
        "outputId": "2743e7b5-272f-40a8-d391-9d777b6aea84",
        "colab": {
          "base_uri": "https://localhost:8080/",
          "height": 71
        }
      },
      "source": [
        "yhat_probs = model.predict(df, verbose=0)\n",
        "# predict crisp classes for test set\n",
        "yhat_classes = model.predict_classes(df, verbose=0)\n",
        "# reduce to 1d array\n",
        "yhat_probs = yhat_probs[:, 0]\n",
        "yhat_classes = yhat_classes[:, 0]"
      ],
      "execution_count": 28,
      "outputs": [
        {
          "output_type": "stream",
          "text": [
            "/usr/local/lib/python3.6/dist-packages/keras/engine/sequential.py:272: RuntimeWarning: invalid value encountered in greater\n",
            "  return (proba > 0.5).astype('int32')\n"
          ],
          "name": "stderr"
        }
      ]
    },
    {
      "cell_type": "code",
      "metadata": {
        "id": "omJWlJNIyHu3",
        "colab_type": "code",
        "colab": {
          "base_uri": "https://localhost:8080/",
          "height": 187
        },
        "outputId": "33044493-902b-4273-f854-3a46ecc466e2"
      },
      "source": [
        "yhat_classes"
      ],
      "execution_count": 52,
      "outputs": [
        {
          "output_type": "execute_result",
          "data": {
            "text/plain": [
              "array([1, 1, 0, 0, 0, 0, 0, 0, 1, 1, 0, 0, 0, 0, 0, 0, 0, 1, 0, 0, 1, 0,\n",
              "       1, 1, 1, 0, 0, 0, 1, 0, 0, 0, 0, 0, 1, 0, 1, 1, 1, 0, 0, 1, 1, 0,\n",
              "       0, 0, 0, 1, 0, 1, 1, 0, 1, 1, 1, 1, 0, 0, 0, 1, 0, 0, 0, 0, 0, 0,\n",
              "       1, 0, 0, 0, 1, 0, 0, 0, 0, 1, 1, 0, 0, 0, 1, 0, 0, 1, 0, 0, 0, 0,\n",
              "       0, 1, 0, 0, 0, 0, 0, 1, 0, 1, 0, 0, 1, 0, 0, 1, 1, 0, 0, 0, 0, 0,\n",
              "       1, 0, 1, 0, 0, 0, 0, 1, 1, 1, 0, 0, 1, 0, 0, 0, 1, 1, 0, 0, 0, 0,\n",
              "       0, 1, 1, 1, 0, 0, 1, 0, 0, 0, 0, 1, 0, 0, 1, 1, 0, 0, 0, 0, 1, 0,\n",
              "       0, 0, 0, 0, 1, 0, 0, 0, 0, 0, 0, 0, 0, 0, 1, 1, 0, 1, 1, 1, 0, 1,\n",
              "       0, 0, 0, 1, 0, 0, 0, 1, 0, 1, 1, 0, 0, 0, 1, 0, 0, 0, 0, 0, 1, 0,\n",
              "       1, 0, 0, 0, 0], dtype=int32)"
            ]
          },
          "metadata": {
            "tags": []
          },
          "execution_count": 52
        }
      ]
    },
    {
      "cell_type": "code",
      "metadata": {
        "id": "v4b8MVVi-KmS",
        "colab_type": "code",
        "colab": {}
      },
      "source": [
        "res=pd.DataFrame(yhat_classes)"
      ],
      "execution_count": 0,
      "outputs": []
    },
    {
      "cell_type": "code",
      "metadata": {
        "id": "xoMSfQ3rvQk7",
        "colab_type": "code",
        "colab": {
          "base_uri": "https://localhost:8080/",
          "height": 419
        },
        "outputId": "179ccd59-feed-4381-9c54-7cdd77d890b7"
      },
      "source": [
        "res"
      ],
      "execution_count": 37,
      "outputs": [
        {
          "output_type": "execute_result",
          "data": {
            "text/html": [
              "<div>\n",
              "<style scoped>\n",
              "    .dataframe tbody tr th:only-of-type {\n",
              "        vertical-align: middle;\n",
              "    }\n",
              "\n",
              "    .dataframe tbody tr th {\n",
              "        vertical-align: top;\n",
              "    }\n",
              "\n",
              "    .dataframe thead th {\n",
              "        text-align: right;\n",
              "    }\n",
              "</style>\n",
              "<table border=\"1\" class=\"dataframe\">\n",
              "  <thead>\n",
              "    <tr style=\"text-align: right;\">\n",
              "      <th></th>\n",
              "      <th>0</th>\n",
              "    </tr>\n",
              "  </thead>\n",
              "  <tbody>\n",
              "    <tr>\n",
              "      <th>0</th>\n",
              "      <td>1</td>\n",
              "    </tr>\n",
              "    <tr>\n",
              "      <th>1</th>\n",
              "      <td>1</td>\n",
              "    </tr>\n",
              "    <tr>\n",
              "      <th>2</th>\n",
              "      <td>0</td>\n",
              "    </tr>\n",
              "    <tr>\n",
              "      <th>3</th>\n",
              "      <td>0</td>\n",
              "    </tr>\n",
              "    <tr>\n",
              "      <th>4</th>\n",
              "      <td>0</td>\n",
              "    </tr>\n",
              "    <tr>\n",
              "      <th>...</th>\n",
              "      <td>...</td>\n",
              "    </tr>\n",
              "    <tr>\n",
              "      <th>198</th>\n",
              "      <td>1</td>\n",
              "    </tr>\n",
              "    <tr>\n",
              "      <th>199</th>\n",
              "      <td>0</td>\n",
              "    </tr>\n",
              "    <tr>\n",
              "      <th>200</th>\n",
              "      <td>0</td>\n",
              "    </tr>\n",
              "    <tr>\n",
              "      <th>201</th>\n",
              "      <td>0</td>\n",
              "    </tr>\n",
              "    <tr>\n",
              "      <th>202</th>\n",
              "      <td>0</td>\n",
              "    </tr>\n",
              "  </tbody>\n",
              "</table>\n",
              "<p>203 rows × 1 columns</p>\n",
              "</div>"
            ],
            "text/plain": [
              "     0\n",
              "0    1\n",
              "1    1\n",
              "2    0\n",
              "3    0\n",
              "4    0\n",
              "..  ..\n",
              "198  1\n",
              "199  0\n",
              "200  0\n",
              "201  0\n",
              "202  0\n",
              "\n",
              "[203 rows x 1 columns]"
            ]
          },
          "metadata": {
            "tags": []
          },
          "execution_count": 37
        }
      ]
    },
    {
      "cell_type": "code",
      "metadata": {
        "id": "rIP_uwn--zJV",
        "colab_type": "code",
        "outputId": "f5d6191a-1833-4bd5-dbd8-ef8514f575a9",
        "colab": {
          "base_uri": "https://localhost:8080/",
          "height": 884
        }
      },
      "source": [
        "yhat_probs"
      ],
      "execution_count": 23,
      "outputs": [
        {
          "output_type": "execute_result",
          "data": {
            "text/plain": [
              "array([9.91131544e-01, 9.77003813e-01, 4.37644124e-03, 4.85560983e-01,\n",
              "       1.71220005e-02, 8.70266557e-03, 2.00048089e-03, 1.37611479e-01,\n",
              "       8.11157942e-01, 9.93964553e-01, 6.72617555e-03, 2.56383598e-01,\n",
              "       3.90238166e-02, 5.90556860e-03, 3.00884247e-04, 1.67754292e-03,\n",
              "       1.38398707e-02, 7.03324616e-01, 1.16660714e-01, 1.44177079e-02,\n",
              "       9.85481262e-01, 3.90207767e-03, 9.88543272e-01, 9.89472866e-01,\n",
              "       8.63357425e-01, 2.72123903e-01, 4.57569957e-03, 1.85051560e-03,\n",
              "       7.97320604e-01, 2.31776804e-01, 4.53238219e-01, 2.98597991e-01,\n",
              "       1.70546681e-01, 9.23573971e-04, 9.92502093e-01, 3.31928730e-02,\n",
              "       7.95109272e-01, 9.63849664e-01, 9.93469000e-01, 1.46597624e-04,\n",
              "       2.04059482e-03, 8.14513564e-01, 6.51963234e-01, 3.01833451e-02,\n",
              "       2.92635262e-01, 7.55625069e-02, 7.06285238e-04, 9.86933589e-01,\n",
              "       3.24968040e-01, 9.35148299e-01, 9.90568876e-01, 9.32851434e-03,\n",
              "       5.77314615e-01, 5.77023029e-01, 9.91132975e-01, 5.21193504e-01,\n",
              "       8.68260860e-04, 2.34904885e-03, 2.71362066e-03, 7.06655562e-01,\n",
              "       2.27461457e-02, 1.76522136e-03, 1.41650200e-01, 5.56519628e-02,\n",
              "       1.99761987e-03, 2.49207020e-04, 8.85385633e-01, 1.32248998e-02,\n",
              "       1.27357244e-03, 2.52268612e-02, 9.86917138e-01, 1.34298205e-03,\n",
              "       7.75039196e-04, 2.86340714e-04, 1.22317672e-03, 5.08091569e-01,\n",
              "       9.87413645e-01, 8.83728266e-03, 2.93276489e-01, 8.47122073e-03,\n",
              "       9.90436316e-01, 5.61308265e-02, 1.58369541e-03, 7.99203634e-01,\n",
              "       1.37010217e-03, 9.39390063e-03, 5.57230413e-02, 1.10633373e-02,\n",
              "       7.03603029e-04, 9.43351388e-01, 2.64785022e-01, 7.22497702e-04,\n",
              "       7.28990138e-02, 7.16556907e-02, 2.52276659e-03, 9.33676481e-01,\n",
              "       3.01918387e-03, 9.90826368e-01, 1.07741475e-01, 8.16792846e-02,\n",
              "       5.54806948e-01, 6.20752871e-02, 7.03613162e-02, 9.90200996e-01,\n",
              "       7.31522202e-01, 4.06932831e-03, 3.60965431e-02, 1.78468227e-03,\n",
              "       6.50468469e-03, 4.41002846e-03, 5.11686027e-01, 3.36629152e-03,\n",
              "       8.38744402e-01, 2.50784755e-02, 3.17224860e-03, 8.75166059e-03,\n",
              "       2.61306763e-04, 9.93490219e-01, 7.23726511e-01, 9.55713868e-01,\n",
              "       1.38086081e-03,            nan, 9.91813302e-01, 6.75678253e-04,\n",
              "       1.00304782e-01, 1.98492944e-01, 5.74219644e-01, 9.94370937e-01,\n",
              "       5.91963530e-04, 2.41331100e-01, 1.12330914e-03, 4.03152853e-01,\n",
              "       1.51991844e-03, 9.91227269e-01, 9.71322060e-01, 7.35563993e-01,\n",
              "       2.62193978e-02, 6.63089156e-02, 9.89841938e-01, 2.31176615e-04,\n",
              "       3.11820805e-02, 7.18894601e-03, 4.24504280e-04, 7.59569764e-01,\n",
              "       2.76088715e-03, 3.16160679e-01, 9.92782474e-01, 9.70300436e-01,\n",
              "       1.49391890e-02, 1.08641386e-03, 7.28726387e-04, 2.49846876e-02,\n",
              "       9.83922601e-01, 5.77867031e-05, 3.61842811e-02, 3.46602201e-02,\n",
              "       1.97823346e-02, 7.56978989e-05, 9.90807891e-01, 1.01336837e-03,\n",
              "       4.09099460e-02, 6.03765249e-03, 2.63628662e-02, 2.09331512e-04,\n",
              "       6.57908916e-02, 7.08839297e-03, 1.17179126e-01, 2.90548801e-02,\n",
              "       9.88781095e-01, 9.87035632e-01, 6.71491027e-03, 9.49710369e-01,\n",
              "       9.93884563e-01, 9.71823990e-01, 1.18121505e-03, 9.86952245e-01,\n",
              "       1.88021064e-02, 5.69188595e-03, 1.15269423e-03, 9.87284064e-01,\n",
              "       1.59589946e-02, 2.14125246e-01,            nan, 9.59877670e-01,\n",
              "       2.79963017e-04, 5.95364988e-01, 9.90320563e-01, 1.66022480e-02,\n",
              "       3.19758058e-03, 9.26396251e-03, 9.92735207e-01, 2.75941998e-01,\n",
              "       1.03697479e-02, 4.91997361e-01, 6.30846620e-03, 5.45555353e-03,\n",
              "       9.87439632e-01, 1.94112957e-02, 9.87911463e-01, 1.40888989e-02,\n",
              "       2.04509851e-02, 1.43628135e-01, 1.08876708e-03], dtype=float32)"
            ]
          },
          "metadata": {
            "tags": []
          },
          "execution_count": 23
        }
      ]
    },
    {
      "cell_type": "code",
      "metadata": {
        "id": "Vs12ERPN-1Ms",
        "colab_type": "code",
        "colab": {}
      },
      "source": [
        "fin = pd.concat([sub,res],axis=1)"
      ],
      "execution_count": 0,
      "outputs": []
    },
    {
      "cell_type": "code",
      "metadata": {
        "id": "wxQqKYb0vMcc",
        "colab_type": "code",
        "colab": {
          "base_uri": "https://localhost:8080/",
          "height": 419
        },
        "outputId": "bfe8e281-5dfb-4d32-cecb-4295429524d6"
      },
      "source": [
        "fin"
      ],
      "execution_count": 44,
      "outputs": [
        {
          "output_type": "execute_result",
          "data": {
            "text/html": [
              "<div>\n",
              "<style scoped>\n",
              "    .dataframe tbody tr th:only-of-type {\n",
              "        vertical-align: middle;\n",
              "    }\n",
              "\n",
              "    .dataframe tbody tr th {\n",
              "        vertical-align: top;\n",
              "    }\n",
              "\n",
              "    .dataframe thead th {\n",
              "        text-align: right;\n",
              "    }\n",
              "</style>\n",
              "<table border=\"1\" class=\"dataframe\">\n",
              "  <thead>\n",
              "    <tr style=\"text-align: right;\">\n",
              "      <th></th>\n",
              "      <th>ID</th>\n",
              "      <th>Default</th>\n",
              "      <th>0</th>\n",
              "    </tr>\n",
              "  </thead>\n",
              "  <tbody>\n",
              "    <tr>\n",
              "      <th>0</th>\n",
              "      <td>1000</td>\n",
              "      <td>NaN</td>\n",
              "      <td>1</td>\n",
              "    </tr>\n",
              "    <tr>\n",
              "      <th>1</th>\n",
              "      <td>1001</td>\n",
              "      <td>NaN</td>\n",
              "      <td>1</td>\n",
              "    </tr>\n",
              "    <tr>\n",
              "      <th>2</th>\n",
              "      <td>1002</td>\n",
              "      <td>NaN</td>\n",
              "      <td>0</td>\n",
              "    </tr>\n",
              "    <tr>\n",
              "      <th>3</th>\n",
              "      <td>1003</td>\n",
              "      <td>NaN</td>\n",
              "      <td>0</td>\n",
              "    </tr>\n",
              "    <tr>\n",
              "      <th>4</th>\n",
              "      <td>1004</td>\n",
              "      <td>NaN</td>\n",
              "      <td>0</td>\n",
              "    </tr>\n",
              "    <tr>\n",
              "      <th>...</th>\n",
              "      <td>...</td>\n",
              "      <td>...</td>\n",
              "      <td>...</td>\n",
              "    </tr>\n",
              "    <tr>\n",
              "      <th>198</th>\n",
              "      <td>1198</td>\n",
              "      <td>NaN</td>\n",
              "      <td>1</td>\n",
              "    </tr>\n",
              "    <tr>\n",
              "      <th>199</th>\n",
              "      <td>1199</td>\n",
              "      <td>NaN</td>\n",
              "      <td>0</td>\n",
              "    </tr>\n",
              "    <tr>\n",
              "      <th>200</th>\n",
              "      <td>1200</td>\n",
              "      <td>NaN</td>\n",
              "      <td>0</td>\n",
              "    </tr>\n",
              "    <tr>\n",
              "      <th>201</th>\n",
              "      <td>1201</td>\n",
              "      <td>NaN</td>\n",
              "      <td>0</td>\n",
              "    </tr>\n",
              "    <tr>\n",
              "      <th>202</th>\n",
              "      <td>1202</td>\n",
              "      <td>NaN</td>\n",
              "      <td>0</td>\n",
              "    </tr>\n",
              "  </tbody>\n",
              "</table>\n",
              "<p>203 rows × 3 columns</p>\n",
              "</div>"
            ],
            "text/plain": [
              "       ID  Default  0\n",
              "0    1000      NaN  1\n",
              "1    1001      NaN  1\n",
              "2    1002      NaN  0\n",
              "3    1003      NaN  0\n",
              "4    1004      NaN  0\n",
              "..    ...      ... ..\n",
              "198  1198      NaN  1\n",
              "199  1199      NaN  0\n",
              "200  1200      NaN  0\n",
              "201  1201      NaN  0\n",
              "202  1202      NaN  0\n",
              "\n",
              "[203 rows x 3 columns]"
            ]
          },
          "metadata": {
            "tags": []
          },
          "execution_count": 44
        }
      ]
    },
    {
      "cell_type": "code",
      "metadata": {
        "id": "gHBPF1bNxAzl",
        "colab_type": "code",
        "colab": {}
      },
      "source": [
        "fin.to_csv('finsub.csv')"
      ],
      "execution_count": 0,
      "outputs": []
    },
    {
      "cell_type": "code",
      "metadata": {
        "id": "mCNTuMw0wYIl",
        "colab_type": "code",
        "colab": {}
      },
      "source": [
        ""
      ],
      "execution_count": 0,
      "outputs": []
    },
    {
      "cell_type": "code",
      "metadata": {
        "id": "Z7G0GxPMw7Ls",
        "colab_type": "code",
        "colab": {}
      },
      "source": [
        ""
      ],
      "execution_count": 0,
      "outputs": []
    }
  ]
}